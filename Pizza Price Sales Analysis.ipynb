{
 "cells": [
  {
   "cell_type": "markdown",
   "id": "6ddbe73d-112c-4e9f-80c0-0bfd557ab922",
   "metadata": {},
   "source": [
    "# ✅ TASK 3 - Data Manipulation And Visualization "
   ]
  },
  {
   "cell_type": "markdown",
   "id": "6919665e-9c0a-4d90-8943-193b4a4142c1",
   "metadata": {},
   "source": [
    "#### Name : Almustapha Damilola Usman "
   ]
  },
  {
   "cell_type": "markdown",
   "id": "a2a0b2f1-e024-4545-a244-7eb97ae61b49",
   "metadata": {},
   "source": [
    "- ##### First step is to import all necessary dictionaries that will be posibly used in cleaning and doing numerical calculation "
   ]
  },
  {
   "cell_type": "code",
   "execution_count": 192,
   "id": "ec8581ab-522f-447a-816e-643bd9cb6353",
   "metadata": {},
   "outputs": [],
   "source": [
    "import pandas as pd\n",
    "import numpy as np\n",
    "import matplotlib.pyplot as plt\n",
    "import seaborn as sns\n",
    "\n",
    "import warnings\n",
    "warnings.filterwarnings(\"ignore\")"
   ]
  },
  {
   "cell_type": "markdown",
   "id": "78817751-eb68-45b4-a393-17f0841227fe",
   "metadata": {},
   "source": [
    "- ##### Import all data to be cleaned ."
   ]
  },
  {
   "cell_type": "code",
   "execution_count": 420,
   "id": "d65e12bf-620b-407e-87c7-79ae20ea23ba",
   "metadata": {},
   "outputs": [],
   "source": [
    "orders = pd.read_csv(\"pizza_sales/orders.csv\") #import orders.csv file \n",
    "orders_details = pd.read_csv(\"pizza_sales/order_details.csv\") #import order_details.csv file\n",
    "pizzas = pd.read_csv(\"pizza_sales/pizzas.csv\") #import pizzas.csv file\n",
    "pizza_types = pd.read_csv(\"pizza_sales/pizza_types.csv\" , encoding=\"latin1\") #import pizza_types.csv file "
   ]
  },
  {
   "cell_type": "markdown",
   "id": "0e762cdc-aaef-4f8c-b767-48f8fac978e2",
   "metadata": {},
   "source": [
    "- #####  Explore each datasets "
   ]
  },
  {
   "cell_type": "code",
   "execution_count": 429,
   "id": "a4f5f6b1-f22c-463e-aec9-95429c37b071",
   "metadata": {},
   "outputs": [
    {
     "data": {
      "text/html": [
       "<div>\n",
       "<style scoped>\n",
       "    .dataframe tbody tr th:only-of-type {\n",
       "        vertical-align: middle;\n",
       "    }\n",
       "\n",
       "    .dataframe tbody tr th {\n",
       "        vertical-align: top;\n",
       "    }\n",
       "\n",
       "    .dataframe thead th {\n",
       "        text-align: right;\n",
       "    }\n",
       "</style>\n",
       "<table border=\"1\" class=\"dataframe\">\n",
       "  <thead>\n",
       "    <tr style=\"text-align: right;\">\n",
       "      <th></th>\n",
       "      <th>order_id</th>\n",
       "      <th>date</th>\n",
       "      <th>time</th>\n",
       "    </tr>\n",
       "  </thead>\n",
       "  <tbody>\n",
       "    <tr>\n",
       "      <th>0</th>\n",
       "      <td>1</td>\n",
       "      <td>2015-01-01</td>\n",
       "      <td>11:38:36</td>\n",
       "    </tr>\n",
       "    <tr>\n",
       "      <th>1</th>\n",
       "      <td>2</td>\n",
       "      <td>2015-01-01</td>\n",
       "      <td>11:57:40</td>\n",
       "    </tr>\n",
       "    <tr>\n",
       "      <th>2</th>\n",
       "      <td>3</td>\n",
       "      <td>2015-01-01</td>\n",
       "      <td>12:12:28</td>\n",
       "    </tr>\n",
       "    <tr>\n",
       "      <th>3</th>\n",
       "      <td>4</td>\n",
       "      <td>2015-01-01</td>\n",
       "      <td>12:16:31</td>\n",
       "    </tr>\n",
       "    <tr>\n",
       "      <th>4</th>\n",
       "      <td>5</td>\n",
       "      <td>2015-01-01</td>\n",
       "      <td>12:21:30</td>\n",
       "    </tr>\n",
       "    <tr>\n",
       "      <th>...</th>\n",
       "      <td>...</td>\n",
       "      <td>...</td>\n",
       "      <td>...</td>\n",
       "    </tr>\n",
       "    <tr>\n",
       "      <th>21345</th>\n",
       "      <td>21346</td>\n",
       "      <td>2015-12-31</td>\n",
       "      <td>20:51:07</td>\n",
       "    </tr>\n",
       "    <tr>\n",
       "      <th>21346</th>\n",
       "      <td>21347</td>\n",
       "      <td>2015-12-31</td>\n",
       "      <td>21:14:37</td>\n",
       "    </tr>\n",
       "    <tr>\n",
       "      <th>21347</th>\n",
       "      <td>21348</td>\n",
       "      <td>2015-12-31</td>\n",
       "      <td>21:23:10</td>\n",
       "    </tr>\n",
       "    <tr>\n",
       "      <th>21348</th>\n",
       "      <td>21349</td>\n",
       "      <td>2015-12-31</td>\n",
       "      <td>22:09:54</td>\n",
       "    </tr>\n",
       "    <tr>\n",
       "      <th>21349</th>\n",
       "      <td>21350</td>\n",
       "      <td>2015-12-31</td>\n",
       "      <td>23:02:05</td>\n",
       "    </tr>\n",
       "  </tbody>\n",
       "</table>\n",
       "<p>21350 rows × 3 columns</p>\n",
       "</div>"
      ],
      "text/plain": [
       "       order_id        date      time\n",
       "0             1  2015-01-01  11:38:36\n",
       "1             2  2015-01-01  11:57:40\n",
       "2             3  2015-01-01  12:12:28\n",
       "3             4  2015-01-01  12:16:31\n",
       "4             5  2015-01-01  12:21:30\n",
       "...         ...         ...       ...\n",
       "21345     21346  2015-12-31  20:51:07\n",
       "21346     21347  2015-12-31  21:14:37\n",
       "21347     21348  2015-12-31  21:23:10\n",
       "21348     21349  2015-12-31  22:09:54\n",
       "21349     21350  2015-12-31  23:02:05\n",
       "\n",
       "[21350 rows x 3 columns]"
      ]
     },
     "execution_count": 429,
     "metadata": {},
     "output_type": "execute_result"
    }
   ],
   "source": [
    "orders #output orders data"
   ]
  },
  {
   "cell_type": "code",
   "execution_count": 431,
   "id": "ded44e40-4002-4066-b236-3c8803c7df8d",
   "metadata": {},
   "outputs": [
    {
     "data": {
      "text/html": [
       "<div>\n",
       "<style scoped>\n",
       "    .dataframe tbody tr th:only-of-type {\n",
       "        vertical-align: middle;\n",
       "    }\n",
       "\n",
       "    .dataframe tbody tr th {\n",
       "        vertical-align: top;\n",
       "    }\n",
       "\n",
       "    .dataframe thead th {\n",
       "        text-align: right;\n",
       "    }\n",
       "</style>\n",
       "<table border=\"1\" class=\"dataframe\">\n",
       "  <thead>\n",
       "    <tr style=\"text-align: right;\">\n",
       "      <th></th>\n",
       "      <th>order_id</th>\n",
       "      <th>date</th>\n",
       "      <th>time</th>\n",
       "    </tr>\n",
       "  </thead>\n",
       "  <tbody>\n",
       "    <tr>\n",
       "      <th>0</th>\n",
       "      <td>1</td>\n",
       "      <td>2015-01-01</td>\n",
       "      <td>11:38:36</td>\n",
       "    </tr>\n",
       "    <tr>\n",
       "      <th>1</th>\n",
       "      <td>2</td>\n",
       "      <td>2015-01-01</td>\n",
       "      <td>11:57:40</td>\n",
       "    </tr>\n",
       "    <tr>\n",
       "      <th>2</th>\n",
       "      <td>3</td>\n",
       "      <td>2015-01-01</td>\n",
       "      <td>12:12:28</td>\n",
       "    </tr>\n",
       "    <tr>\n",
       "      <th>3</th>\n",
       "      <td>4</td>\n",
       "      <td>2015-01-01</td>\n",
       "      <td>12:16:31</td>\n",
       "    </tr>\n",
       "    <tr>\n",
       "      <th>4</th>\n",
       "      <td>5</td>\n",
       "      <td>2015-01-01</td>\n",
       "      <td>12:21:30</td>\n",
       "    </tr>\n",
       "  </tbody>\n",
       "</table>\n",
       "</div>"
      ],
      "text/plain": [
       "   order_id        date      time\n",
       "0         1  2015-01-01  11:38:36\n",
       "1         2  2015-01-01  11:57:40\n",
       "2         3  2015-01-01  12:12:28\n",
       "3         4  2015-01-01  12:16:31\n",
       "4         5  2015-01-01  12:21:30"
      ]
     },
     "execution_count": 431,
     "metadata": {},
     "output_type": "execute_result"
    }
   ],
   "source": [
    "orders.head() #output first 5 rows"
   ]
  },
  {
   "cell_type": "code",
   "execution_count": 433,
   "id": "9203ea69-4488-4a35-83d6-379920a1b39c",
   "metadata": {},
   "outputs": [
    {
     "data": {
      "text/html": [
       "<div>\n",
       "<style scoped>\n",
       "    .dataframe tbody tr th:only-of-type {\n",
       "        vertical-align: middle;\n",
       "    }\n",
       "\n",
       "    .dataframe tbody tr th {\n",
       "        vertical-align: top;\n",
       "    }\n",
       "\n",
       "    .dataframe thead th {\n",
       "        text-align: right;\n",
       "    }\n",
       "</style>\n",
       "<table border=\"1\" class=\"dataframe\">\n",
       "  <thead>\n",
       "    <tr style=\"text-align: right;\">\n",
       "      <th></th>\n",
       "      <th>order_id</th>\n",
       "      <th>date</th>\n",
       "      <th>time</th>\n",
       "    </tr>\n",
       "  </thead>\n",
       "  <tbody>\n",
       "    <tr>\n",
       "      <th>21345</th>\n",
       "      <td>21346</td>\n",
       "      <td>2015-12-31</td>\n",
       "      <td>20:51:07</td>\n",
       "    </tr>\n",
       "    <tr>\n",
       "      <th>21346</th>\n",
       "      <td>21347</td>\n",
       "      <td>2015-12-31</td>\n",
       "      <td>21:14:37</td>\n",
       "    </tr>\n",
       "    <tr>\n",
       "      <th>21347</th>\n",
       "      <td>21348</td>\n",
       "      <td>2015-12-31</td>\n",
       "      <td>21:23:10</td>\n",
       "    </tr>\n",
       "    <tr>\n",
       "      <th>21348</th>\n",
       "      <td>21349</td>\n",
       "      <td>2015-12-31</td>\n",
       "      <td>22:09:54</td>\n",
       "    </tr>\n",
       "    <tr>\n",
       "      <th>21349</th>\n",
       "      <td>21350</td>\n",
       "      <td>2015-12-31</td>\n",
       "      <td>23:02:05</td>\n",
       "    </tr>\n",
       "  </tbody>\n",
       "</table>\n",
       "</div>"
      ],
      "text/plain": [
       "       order_id        date      time\n",
       "21345     21346  2015-12-31  20:51:07\n",
       "21346     21347  2015-12-31  21:14:37\n",
       "21347     21348  2015-12-31  21:23:10\n",
       "21348     21349  2015-12-31  22:09:54\n",
       "21349     21350  2015-12-31  23:02:05"
      ]
     },
     "execution_count": 433,
     "metadata": {},
     "output_type": "execute_result"
    }
   ],
   "source": [
    "orders.tail() #output last 5 rows"
   ]
  },
  {
   "cell_type": "code",
   "execution_count": 435,
   "id": "90b6c68c-a2b7-4c46-9bad-039b9e2fe03b",
   "metadata": {},
   "outputs": [
    {
     "data": {
      "text/plain": [
       "(21350, 3)"
      ]
     },
     "execution_count": 435,
     "metadata": {},
     "output_type": "execute_result"
    }
   ],
   "source": [
    "orders.shape #output the total rows and columns"
   ]
  },
  {
   "cell_type": "code",
   "execution_count": 28,
   "id": "a569f759-462b-453c-9fa0-21dcfb94079e",
   "metadata": {},
   "outputs": [
    {
     "data": {
      "text/plain": [
       "Index(['order_id', 'date', 'time'], dtype='object')"
      ]
     },
     "execution_count": 28,
     "metadata": {},
     "output_type": "execute_result"
    }
   ],
   "source": [
    "orders.columns"
   ]
  },
  {
   "cell_type": "code",
   "execution_count": 437,
   "id": "3ba1ea98-8bfb-4e8c-a0b5-cd576f70fd86",
   "metadata": {},
   "outputs": [
    {
     "name": "stdout",
     "output_type": "stream",
     "text": [
      "<class 'pandas.core.frame.DataFrame'>\n",
      "RangeIndex: 21350 entries, 0 to 21349\n",
      "Data columns (total 3 columns):\n",
      " #   Column    Non-Null Count  Dtype \n",
      "---  ------    --------------  ----- \n",
      " 0   order_id  21350 non-null  int64 \n",
      " 1   date      21350 non-null  object\n",
      " 2   time      21350 non-null  object\n",
      "dtypes: int64(1), object(2)\n",
      "memory usage: 500.5+ KB\n"
     ]
    }
   ],
   "source": [
    "orders.info() #shows the full overview of the data"
   ]
  },
  {
   "cell_type": "code",
   "execution_count": 439,
   "id": "4d124f3d-23f5-4c3e-8efc-acb929129943",
   "metadata": {},
   "outputs": [
    {
     "data": {
      "text/plain": [
       "order_id    0\n",
       "date        0\n",
       "time        0\n",
       "dtype: int64"
      ]
     },
     "execution_count": 439,
     "metadata": {},
     "output_type": "execute_result"
    }
   ],
   "source": [
    "orders.isna().sum() #check for null values "
   ]
  },
  {
   "cell_type": "code",
   "execution_count": 441,
   "id": "d7de9806-2108-4e72-acf5-fbcda2135d9b",
   "metadata": {},
   "outputs": [],
   "source": [
    "#convert the date and time column to datetime dtype\n",
    "orders[\"date\"] = pd.to_datetime(orders[\"date\"]) \n",
    "orders[\"time\"] = pd.to_datetime(orders[\"time\"], format='%H:%M:%S')"
   ]
  },
  {
   "cell_type": "code",
   "execution_count": 243,
   "id": "8b95e2d9-e1f9-42f7-9d25-406c316f7408",
   "metadata": {},
   "outputs": [
    {
     "name": "stdout",
     "output_type": "stream",
     "text": [
      "<class 'pandas.core.frame.DataFrame'>\n",
      "RangeIndex: 21350 entries, 0 to 21349\n",
      "Data columns (total 5 columns):\n",
      " #   Column       Non-Null Count  Dtype         \n",
      "---  ------       --------------  -----         \n",
      " 0   order_id     21350 non-null  int64         \n",
      " 1   date         21350 non-null  datetime64[ns]\n",
      " 2   time         21350 non-null  datetime64[ns]\n",
      " 3   Order month  21350 non-null  object        \n",
      " 4   Order day    21350 non-null  object        \n",
      "dtypes: datetime64[ns](2), int64(1), object(2)\n",
      "memory usage: 834.1+ KB\n"
     ]
    }
   ],
   "source": [
    "orders.info()"
   ]
  },
  {
   "cell_type": "code",
   "execution_count": 124,
   "id": "d6c1f42d-8543-4571-bda2-9034945c4c88",
   "metadata": {},
   "outputs": [
    {
     "data": {
      "text/plain": [
       "order_id  date        time      Order month  Order day\n",
       "1         2015-01-01  11:38:36  January      Thursday     1\n",
       "14241     2015-08-26  13:49:24  August       Wednesday    1\n",
       "14239     2015-08-26  13:12:31  August       Wednesday    1\n",
       "14238     2015-08-26  12:51:01  August       Wednesday    1\n",
       "14237     2015-08-26  12:46:25  August       Wednesday    1\n",
       "                                                         ..\n",
       "7116      2015-04-30  12:40:05  April        Thursday     1\n",
       "7115      2015-04-30  12:37:50  April        Thursday     1\n",
       "7114      2015-04-30  12:34:20  April        Thursday     1\n",
       "7113      2015-04-30  12:21:01  April        Thursday     1\n",
       "21350     2015-12-31  23:02:05  December     Thursday     1\n",
       "Name: count, Length: 21350, dtype: int64"
      ]
     },
     "execution_count": 124,
     "metadata": {},
     "output_type": "execute_result"
    }
   ],
   "source": [
    "orders.value_counts()"
   ]
  },
  {
   "cell_type": "code",
   "execution_count": 245,
   "id": "402d89cd-f28b-49f5-aac6-788c2d313b82",
   "metadata": {},
   "outputs": [],
   "source": [
    "orders[\"Order month\"] = orders[\"date\"].dt.strftime('%B') # add a column for month"
   ]
  },
  {
   "cell_type": "code",
   "execution_count": 443,
   "id": "48accbd6-3a99-4109-b49e-e313b77527f4",
   "metadata": {},
   "outputs": [],
   "source": [
    "orders[\"Order day\"] = orders[\"date\"].dt.day_name() #add a column for day "
   ]
  },
  {
   "cell_type": "code",
   "execution_count": 445,
   "id": "fc23c026-1c43-4cb5-b32b-f961c45ccb7e",
   "metadata": {},
   "outputs": [
    {
     "data": {
      "text/html": [
       "<div>\n",
       "<style scoped>\n",
       "    .dataframe tbody tr th:only-of-type {\n",
       "        vertical-align: middle;\n",
       "    }\n",
       "\n",
       "    .dataframe tbody tr th {\n",
       "        vertical-align: top;\n",
       "    }\n",
       "\n",
       "    .dataframe thead th {\n",
       "        text-align: right;\n",
       "    }\n",
       "</style>\n",
       "<table border=\"1\" class=\"dataframe\">\n",
       "  <thead>\n",
       "    <tr style=\"text-align: right;\">\n",
       "      <th></th>\n",
       "      <th>order_id</th>\n",
       "      <th>date</th>\n",
       "      <th>time</th>\n",
       "      <th>Order day</th>\n",
       "    </tr>\n",
       "  </thead>\n",
       "  <tbody>\n",
       "    <tr>\n",
       "      <th>0</th>\n",
       "      <td>1</td>\n",
       "      <td>2015-01-01</td>\n",
       "      <td>1900-01-01 11:38:36</td>\n",
       "      <td>Thursday</td>\n",
       "    </tr>\n",
       "    <tr>\n",
       "      <th>1</th>\n",
       "      <td>2</td>\n",
       "      <td>2015-01-01</td>\n",
       "      <td>1900-01-01 11:57:40</td>\n",
       "      <td>Thursday</td>\n",
       "    </tr>\n",
       "    <tr>\n",
       "      <th>2</th>\n",
       "      <td>3</td>\n",
       "      <td>2015-01-01</td>\n",
       "      <td>1900-01-01 12:12:28</td>\n",
       "      <td>Thursday</td>\n",
       "    </tr>\n",
       "    <tr>\n",
       "      <th>3</th>\n",
       "      <td>4</td>\n",
       "      <td>2015-01-01</td>\n",
       "      <td>1900-01-01 12:16:31</td>\n",
       "      <td>Thursday</td>\n",
       "    </tr>\n",
       "    <tr>\n",
       "      <th>4</th>\n",
       "      <td>5</td>\n",
       "      <td>2015-01-01</td>\n",
       "      <td>1900-01-01 12:21:30</td>\n",
       "      <td>Thursday</td>\n",
       "    </tr>\n",
       "  </tbody>\n",
       "</table>\n",
       "</div>"
      ],
      "text/plain": [
       "   order_id       date                time Order day\n",
       "0         1 2015-01-01 1900-01-01 11:38:36  Thursday\n",
       "1         2 2015-01-01 1900-01-01 11:57:40  Thursday\n",
       "2         3 2015-01-01 1900-01-01 12:12:28  Thursday\n",
       "3         4 2015-01-01 1900-01-01 12:16:31  Thursday\n",
       "4         5 2015-01-01 1900-01-01 12:21:30  Thursday"
      ]
     },
     "execution_count": 445,
     "metadata": {},
     "output_type": "execute_result"
    }
   ],
   "source": [
    "orders.head() #check the updates made on the dataset"
   ]
  },
  {
   "cell_type": "markdown",
   "id": "5dfa1768-1283-48ba-b87b-fa006a500a43",
   "metadata": {},
   "source": [
    "- The same process is followed for the other datasets"
   ]
  },
  {
   "cell_type": "code",
   "execution_count": 251,
   "id": "9e6491ef-a370-4211-891f-f40bdba7baf4",
   "metadata": {},
   "outputs": [
    {
     "data": {
      "text/html": [
       "<div>\n",
       "<style scoped>\n",
       "    .dataframe tbody tr th:only-of-type {\n",
       "        vertical-align: middle;\n",
       "    }\n",
       "\n",
       "    .dataframe tbody tr th {\n",
       "        vertical-align: top;\n",
       "    }\n",
       "\n",
       "    .dataframe thead th {\n",
       "        text-align: right;\n",
       "    }\n",
       "</style>\n",
       "<table border=\"1\" class=\"dataframe\">\n",
       "  <thead>\n",
       "    <tr style=\"text-align: right;\">\n",
       "      <th></th>\n",
       "      <th>order_details_id</th>\n",
       "      <th>order_id</th>\n",
       "      <th>pizza_id</th>\n",
       "      <th>quantity</th>\n",
       "    </tr>\n",
       "  </thead>\n",
       "  <tbody>\n",
       "    <tr>\n",
       "      <th>0</th>\n",
       "      <td>1</td>\n",
       "      <td>1</td>\n",
       "      <td>hawaiian_m</td>\n",
       "      <td>1</td>\n",
       "    </tr>\n",
       "    <tr>\n",
       "      <th>1</th>\n",
       "      <td>2</td>\n",
       "      <td>2</td>\n",
       "      <td>classic_dlx_m</td>\n",
       "      <td>1</td>\n",
       "    </tr>\n",
       "    <tr>\n",
       "      <th>2</th>\n",
       "      <td>3</td>\n",
       "      <td>2</td>\n",
       "      <td>five_cheese_l</td>\n",
       "      <td>1</td>\n",
       "    </tr>\n",
       "    <tr>\n",
       "      <th>3</th>\n",
       "      <td>4</td>\n",
       "      <td>2</td>\n",
       "      <td>ital_supr_l</td>\n",
       "      <td>1</td>\n",
       "    </tr>\n",
       "    <tr>\n",
       "      <th>4</th>\n",
       "      <td>5</td>\n",
       "      <td>2</td>\n",
       "      <td>mexicana_m</td>\n",
       "      <td>1</td>\n",
       "    </tr>\n",
       "    <tr>\n",
       "      <th>...</th>\n",
       "      <td>...</td>\n",
       "      <td>...</td>\n",
       "      <td>...</td>\n",
       "      <td>...</td>\n",
       "    </tr>\n",
       "    <tr>\n",
       "      <th>48615</th>\n",
       "      <td>48616</td>\n",
       "      <td>21348</td>\n",
       "      <td>ckn_alfredo_m</td>\n",
       "      <td>1</td>\n",
       "    </tr>\n",
       "    <tr>\n",
       "      <th>48616</th>\n",
       "      <td>48617</td>\n",
       "      <td>21348</td>\n",
       "      <td>four_cheese_l</td>\n",
       "      <td>1</td>\n",
       "    </tr>\n",
       "    <tr>\n",
       "      <th>48617</th>\n",
       "      <td>48618</td>\n",
       "      <td>21348</td>\n",
       "      <td>napolitana_s</td>\n",
       "      <td>1</td>\n",
       "    </tr>\n",
       "    <tr>\n",
       "      <th>48618</th>\n",
       "      <td>48619</td>\n",
       "      <td>21349</td>\n",
       "      <td>mexicana_l</td>\n",
       "      <td>1</td>\n",
       "    </tr>\n",
       "    <tr>\n",
       "      <th>48619</th>\n",
       "      <td>48620</td>\n",
       "      <td>21350</td>\n",
       "      <td>bbq_ckn_s</td>\n",
       "      <td>1</td>\n",
       "    </tr>\n",
       "  </tbody>\n",
       "</table>\n",
       "<p>48620 rows × 4 columns</p>\n",
       "</div>"
      ],
      "text/plain": [
       "       order_details_id  order_id       pizza_id  quantity\n",
       "0                     1         1     hawaiian_m         1\n",
       "1                     2         2  classic_dlx_m         1\n",
       "2                     3         2  five_cheese_l         1\n",
       "3                     4         2    ital_supr_l         1\n",
       "4                     5         2     mexicana_m         1\n",
       "...                 ...       ...            ...       ...\n",
       "48615             48616     21348  ckn_alfredo_m         1\n",
       "48616             48617     21348  four_cheese_l         1\n",
       "48617             48618     21348   napolitana_s         1\n",
       "48618             48619     21349     mexicana_l         1\n",
       "48619             48620     21350      bbq_ckn_s         1\n",
       "\n",
       "[48620 rows x 4 columns]"
      ]
     },
     "execution_count": 251,
     "metadata": {},
     "output_type": "execute_result"
    }
   ],
   "source": [
    "orders_details"
   ]
  },
  {
   "cell_type": "code",
   "execution_count": 253,
   "id": "01b1b823-d386-4a65-8f7e-ebd0c42c351a",
   "metadata": {},
   "outputs": [
    {
     "data": {
      "text/html": [
       "<div>\n",
       "<style scoped>\n",
       "    .dataframe tbody tr th:only-of-type {\n",
       "        vertical-align: middle;\n",
       "    }\n",
       "\n",
       "    .dataframe tbody tr th {\n",
       "        vertical-align: top;\n",
       "    }\n",
       "\n",
       "    .dataframe thead th {\n",
       "        text-align: right;\n",
       "    }\n",
       "</style>\n",
       "<table border=\"1\" class=\"dataframe\">\n",
       "  <thead>\n",
       "    <tr style=\"text-align: right;\">\n",
       "      <th></th>\n",
       "      <th>order_details_id</th>\n",
       "      <th>order_id</th>\n",
       "      <th>pizza_id</th>\n",
       "      <th>quantity</th>\n",
       "    </tr>\n",
       "  </thead>\n",
       "  <tbody>\n",
       "    <tr>\n",
       "      <th>0</th>\n",
       "      <td>1</td>\n",
       "      <td>1</td>\n",
       "      <td>hawaiian_m</td>\n",
       "      <td>1</td>\n",
       "    </tr>\n",
       "    <tr>\n",
       "      <th>1</th>\n",
       "      <td>2</td>\n",
       "      <td>2</td>\n",
       "      <td>classic_dlx_m</td>\n",
       "      <td>1</td>\n",
       "    </tr>\n",
       "    <tr>\n",
       "      <th>2</th>\n",
       "      <td>3</td>\n",
       "      <td>2</td>\n",
       "      <td>five_cheese_l</td>\n",
       "      <td>1</td>\n",
       "    </tr>\n",
       "    <tr>\n",
       "      <th>3</th>\n",
       "      <td>4</td>\n",
       "      <td>2</td>\n",
       "      <td>ital_supr_l</td>\n",
       "      <td>1</td>\n",
       "    </tr>\n",
       "    <tr>\n",
       "      <th>4</th>\n",
       "      <td>5</td>\n",
       "      <td>2</td>\n",
       "      <td>mexicana_m</td>\n",
       "      <td>1</td>\n",
       "    </tr>\n",
       "  </tbody>\n",
       "</table>\n",
       "</div>"
      ],
      "text/plain": [
       "   order_details_id  order_id       pizza_id  quantity\n",
       "0                 1         1     hawaiian_m         1\n",
       "1                 2         2  classic_dlx_m         1\n",
       "2                 3         2  five_cheese_l         1\n",
       "3                 4         2    ital_supr_l         1\n",
       "4                 5         2     mexicana_m         1"
      ]
     },
     "execution_count": 253,
     "metadata": {},
     "output_type": "execute_result"
    }
   ],
   "source": [
    "orders_details.head()"
   ]
  },
  {
   "cell_type": "code",
   "execution_count": 255,
   "id": "754a5b81-3be9-4713-a0cb-5f51f5fef59c",
   "metadata": {},
   "outputs": [
    {
     "data": {
      "text/html": [
       "<div>\n",
       "<style scoped>\n",
       "    .dataframe tbody tr th:only-of-type {\n",
       "        vertical-align: middle;\n",
       "    }\n",
       "\n",
       "    .dataframe tbody tr th {\n",
       "        vertical-align: top;\n",
       "    }\n",
       "\n",
       "    .dataframe thead th {\n",
       "        text-align: right;\n",
       "    }\n",
       "</style>\n",
       "<table border=\"1\" class=\"dataframe\">\n",
       "  <thead>\n",
       "    <tr style=\"text-align: right;\">\n",
       "      <th></th>\n",
       "      <th>order_details_id</th>\n",
       "      <th>order_id</th>\n",
       "      <th>pizza_id</th>\n",
       "      <th>quantity</th>\n",
       "    </tr>\n",
       "  </thead>\n",
       "  <tbody>\n",
       "    <tr>\n",
       "      <th>48615</th>\n",
       "      <td>48616</td>\n",
       "      <td>21348</td>\n",
       "      <td>ckn_alfredo_m</td>\n",
       "      <td>1</td>\n",
       "    </tr>\n",
       "    <tr>\n",
       "      <th>48616</th>\n",
       "      <td>48617</td>\n",
       "      <td>21348</td>\n",
       "      <td>four_cheese_l</td>\n",
       "      <td>1</td>\n",
       "    </tr>\n",
       "    <tr>\n",
       "      <th>48617</th>\n",
       "      <td>48618</td>\n",
       "      <td>21348</td>\n",
       "      <td>napolitana_s</td>\n",
       "      <td>1</td>\n",
       "    </tr>\n",
       "    <tr>\n",
       "      <th>48618</th>\n",
       "      <td>48619</td>\n",
       "      <td>21349</td>\n",
       "      <td>mexicana_l</td>\n",
       "      <td>1</td>\n",
       "    </tr>\n",
       "    <tr>\n",
       "      <th>48619</th>\n",
       "      <td>48620</td>\n",
       "      <td>21350</td>\n",
       "      <td>bbq_ckn_s</td>\n",
       "      <td>1</td>\n",
       "    </tr>\n",
       "  </tbody>\n",
       "</table>\n",
       "</div>"
      ],
      "text/plain": [
       "       order_details_id  order_id       pizza_id  quantity\n",
       "48615             48616     21348  ckn_alfredo_m         1\n",
       "48616             48617     21348  four_cheese_l         1\n",
       "48617             48618     21348   napolitana_s         1\n",
       "48618             48619     21349     mexicana_l         1\n",
       "48619             48620     21350      bbq_ckn_s         1"
      ]
     },
     "execution_count": 255,
     "metadata": {},
     "output_type": "execute_result"
    }
   ],
   "source": [
    "orders_details.tail()"
   ]
  },
  {
   "cell_type": "code",
   "execution_count": 257,
   "id": "d009ebde-f917-4520-bc6b-d2cecfc9d0cf",
   "metadata": {},
   "outputs": [
    {
     "name": "stdout",
     "output_type": "stream",
     "text": [
      "<class 'pandas.core.frame.DataFrame'>\n",
      "RangeIndex: 48620 entries, 0 to 48619\n",
      "Data columns (total 4 columns):\n",
      " #   Column            Non-Null Count  Dtype \n",
      "---  ------            --------------  ----- \n",
      " 0   order_details_id  48620 non-null  int64 \n",
      " 1   order_id          48620 non-null  int64 \n",
      " 2   pizza_id          48620 non-null  object\n",
      " 3   quantity          48620 non-null  int64 \n",
      "dtypes: int64(3), object(1)\n",
      "memory usage: 1.5+ MB\n"
     ]
    }
   ],
   "source": [
    "orders_details.info()"
   ]
  },
  {
   "cell_type": "code",
   "execution_count": 259,
   "id": "ba4b8ecc-218f-450f-b0a1-28e44ac3716c",
   "metadata": {},
   "outputs": [
    {
     "data": {
      "text/plain": [
       "array(['hawaiian_m', 'classic_dlx_m', 'five_cheese_l', 'ital_supr_l',\n",
       "       'mexicana_m', 'thai_ckn_l', 'ital_supr_m', 'prsc_argla_l',\n",
       "       'bbq_ckn_s', 'the_greek_s', 'spinach_supr_s', 'classic_dlx_s',\n",
       "       'green_garden_s', 'ital_cpcllo_l', 'ital_supr_s', 'mexicana_s',\n",
       "       'spicy_ital_l', 'spin_pesto_l', 'veggie_veg_s', 'mexicana_l',\n",
       "       'southw_ckn_l', 'bbq_ckn_l', 'cali_ckn_l', 'cali_ckn_m',\n",
       "       'pepperoni_l', 'cali_ckn_s', 'ckn_pesto_l', 'big_meat_s',\n",
       "       'soppressata_l', 'four_cheese_l', 'napolitana_s', 'calabrese_m',\n",
       "       'four_cheese_m', 'ital_veggie_s', 'mediterraneo_m',\n",
       "       'peppr_salami_s', 'spinach_fet_l', 'napolitana_l', 'sicilian_l',\n",
       "       'ital_cpcllo_m', 'southw_ckn_s', 'bbq_ckn_m', 'pepperoni_m',\n",
       "       'prsc_argla_s', 'sicilian_m', 'veggie_veg_l', 'ckn_alfredo_s',\n",
       "       'pepperoni_s', 'green_garden_l', 'green_garden_m', 'pep_msh_pep_l',\n",
       "       'hawaiian_s', 'peppr_salami_m', 'ckn_alfredo_m', 'peppr_salami_l',\n",
       "       'spin_pesto_s', 'thai_ckn_m', 'classic_dlx_l', 'ckn_pesto_m',\n",
       "       'the_greek_xl', 'hawaiian_l', 'pep_msh_pep_s', 'spinach_supr_m',\n",
       "       'prsc_argla_m', 'mediterraneo_l', 'southw_ckn_m', 'pep_msh_pep_m',\n",
       "       'sicilian_s', 'spicy_ital_s', 'thai_ckn_s', 'spinach_supr_l',\n",
       "       'ital_veggie_l', 'veggie_veg_m', 'the_greek_m', 'ckn_pesto_s',\n",
       "       'spinach_fet_s', 'spicy_ital_m', 'ital_veggie_m', 'ital_cpcllo_s',\n",
       "       'mediterraneo_s', 'spinach_fet_m', 'napolitana_m', 'spin_pesto_m',\n",
       "       'brie_carre_s', 'ckn_alfredo_l', 'calabrese_s', 'the_greek_l',\n",
       "       'soppressata_m', 'soppressata_s', 'calabrese_l', 'the_greek_xxl'],\n",
       "      dtype=object)"
      ]
     },
     "execution_count": 259,
     "metadata": {},
     "output_type": "execute_result"
    }
   ],
   "source": [
    "orders_details[\"pizza_id\"].unique()"
   ]
  },
  {
   "cell_type": "code",
   "execution_count": 261,
   "id": "d894c927-cfd8-46df-a878-daf80639b70b",
   "metadata": {},
   "outputs": [
    {
     "data": {
      "text/plain": [
       "order_details_id  order_id  pizza_id       quantity\n",
       "1                 1         hawaiian_m     1           1\n",
       "32418             14326     bbq_ckn_m      1           1\n",
       "32409             14322     spicy_ital_s   1           1\n",
       "32410             14323     pepperoni_s    1           1\n",
       "32411             14323     thai_ckn_l     1           1\n",
       "                                                      ..\n",
       "16209             7132      classic_dlx_m  1           1\n",
       "16210             7132      four_cheese_l  1           1\n",
       "16211             7132      spicy_ital_l   1           1\n",
       "16212             7133      mexicana_s     1           1\n",
       "48620             21350     bbq_ckn_s      1           1\n",
       "Name: count, Length: 48620, dtype: int64"
      ]
     },
     "execution_count": 261,
     "metadata": {},
     "output_type": "execute_result"
    }
   ],
   "source": [
    "orders_details.value_counts()"
   ]
  },
  {
   "cell_type": "code",
   "execution_count": 263,
   "id": "21b7dd9d-591d-48a3-8e42-7dd75e6a78f6",
   "metadata": {},
   "outputs": [
    {
     "data": {
      "text/html": [
       "<div>\n",
       "<style scoped>\n",
       "    .dataframe tbody tr th:only-of-type {\n",
       "        vertical-align: middle;\n",
       "    }\n",
       "\n",
       "    .dataframe tbody tr th {\n",
       "        vertical-align: top;\n",
       "    }\n",
       "\n",
       "    .dataframe thead th {\n",
       "        text-align: right;\n",
       "    }\n",
       "</style>\n",
       "<table border=\"1\" class=\"dataframe\">\n",
       "  <thead>\n",
       "    <tr style=\"text-align: right;\">\n",
       "      <th></th>\n",
       "      <th>pizza_id</th>\n",
       "      <th>pizza_type_id</th>\n",
       "      <th>size</th>\n",
       "      <th>price</th>\n",
       "    </tr>\n",
       "  </thead>\n",
       "  <tbody>\n",
       "    <tr>\n",
       "      <th>0</th>\n",
       "      <td>bbq_ckn_s</td>\n",
       "      <td>bbq_ckn</td>\n",
       "      <td>S</td>\n",
       "      <td>12.75</td>\n",
       "    </tr>\n",
       "    <tr>\n",
       "      <th>1</th>\n",
       "      <td>bbq_ckn_m</td>\n",
       "      <td>bbq_ckn</td>\n",
       "      <td>M</td>\n",
       "      <td>16.75</td>\n",
       "    </tr>\n",
       "    <tr>\n",
       "      <th>2</th>\n",
       "      <td>bbq_ckn_l</td>\n",
       "      <td>bbq_ckn</td>\n",
       "      <td>L</td>\n",
       "      <td>20.75</td>\n",
       "    </tr>\n",
       "    <tr>\n",
       "      <th>3</th>\n",
       "      <td>cali_ckn_s</td>\n",
       "      <td>cali_ckn</td>\n",
       "      <td>S</td>\n",
       "      <td>12.75</td>\n",
       "    </tr>\n",
       "    <tr>\n",
       "      <th>4</th>\n",
       "      <td>cali_ckn_m</td>\n",
       "      <td>cali_ckn</td>\n",
       "      <td>M</td>\n",
       "      <td>16.75</td>\n",
       "    </tr>\n",
       "    <tr>\n",
       "      <th>...</th>\n",
       "      <td>...</td>\n",
       "      <td>...</td>\n",
       "      <td>...</td>\n",
       "      <td>...</td>\n",
       "    </tr>\n",
       "    <tr>\n",
       "      <th>91</th>\n",
       "      <td>spinach_fet_m</td>\n",
       "      <td>spinach_fet</td>\n",
       "      <td>M</td>\n",
       "      <td>16.00</td>\n",
       "    </tr>\n",
       "    <tr>\n",
       "      <th>92</th>\n",
       "      <td>spinach_fet_l</td>\n",
       "      <td>spinach_fet</td>\n",
       "      <td>L</td>\n",
       "      <td>20.25</td>\n",
       "    </tr>\n",
       "    <tr>\n",
       "      <th>93</th>\n",
       "      <td>veggie_veg_s</td>\n",
       "      <td>veggie_veg</td>\n",
       "      <td>S</td>\n",
       "      <td>12.00</td>\n",
       "    </tr>\n",
       "    <tr>\n",
       "      <th>94</th>\n",
       "      <td>veggie_veg_m</td>\n",
       "      <td>veggie_veg</td>\n",
       "      <td>M</td>\n",
       "      <td>16.00</td>\n",
       "    </tr>\n",
       "    <tr>\n",
       "      <th>95</th>\n",
       "      <td>veggie_veg_l</td>\n",
       "      <td>veggie_veg</td>\n",
       "      <td>L</td>\n",
       "      <td>20.25</td>\n",
       "    </tr>\n",
       "  </tbody>\n",
       "</table>\n",
       "<p>96 rows × 4 columns</p>\n",
       "</div>"
      ],
      "text/plain": [
       "         pizza_id pizza_type_id size  price\n",
       "0       bbq_ckn_s       bbq_ckn    S  12.75\n",
       "1       bbq_ckn_m       bbq_ckn    M  16.75\n",
       "2       bbq_ckn_l       bbq_ckn    L  20.75\n",
       "3      cali_ckn_s      cali_ckn    S  12.75\n",
       "4      cali_ckn_m      cali_ckn    M  16.75\n",
       "..            ...           ...  ...    ...\n",
       "91  spinach_fet_m   spinach_fet    M  16.00\n",
       "92  spinach_fet_l   spinach_fet    L  20.25\n",
       "93   veggie_veg_s    veggie_veg    S  12.00\n",
       "94   veggie_veg_m    veggie_veg    M  16.00\n",
       "95   veggie_veg_l    veggie_veg    L  20.25\n",
       "\n",
       "[96 rows x 4 columns]"
      ]
     },
     "execution_count": 263,
     "metadata": {},
     "output_type": "execute_result"
    }
   ],
   "source": [
    "pizzas"
   ]
  },
  {
   "cell_type": "code",
   "execution_count": 265,
   "id": "731cf58f-8753-4da9-90f2-e85f202b0623",
   "metadata": {},
   "outputs": [
    {
     "data": {
      "text/html": [
       "<div>\n",
       "<style scoped>\n",
       "    .dataframe tbody tr th:only-of-type {\n",
       "        vertical-align: middle;\n",
       "    }\n",
       "\n",
       "    .dataframe tbody tr th {\n",
       "        vertical-align: top;\n",
       "    }\n",
       "\n",
       "    .dataframe thead th {\n",
       "        text-align: right;\n",
       "    }\n",
       "</style>\n",
       "<table border=\"1\" class=\"dataframe\">\n",
       "  <thead>\n",
       "    <tr style=\"text-align: right;\">\n",
       "      <th></th>\n",
       "      <th>pizza_id</th>\n",
       "      <th>pizza_type_id</th>\n",
       "      <th>size</th>\n",
       "      <th>price</th>\n",
       "    </tr>\n",
       "  </thead>\n",
       "  <tbody>\n",
       "    <tr>\n",
       "      <th>0</th>\n",
       "      <td>bbq_ckn_s</td>\n",
       "      <td>bbq_ckn</td>\n",
       "      <td>S</td>\n",
       "      <td>12.75</td>\n",
       "    </tr>\n",
       "    <tr>\n",
       "      <th>1</th>\n",
       "      <td>bbq_ckn_m</td>\n",
       "      <td>bbq_ckn</td>\n",
       "      <td>M</td>\n",
       "      <td>16.75</td>\n",
       "    </tr>\n",
       "    <tr>\n",
       "      <th>2</th>\n",
       "      <td>bbq_ckn_l</td>\n",
       "      <td>bbq_ckn</td>\n",
       "      <td>L</td>\n",
       "      <td>20.75</td>\n",
       "    </tr>\n",
       "    <tr>\n",
       "      <th>3</th>\n",
       "      <td>cali_ckn_s</td>\n",
       "      <td>cali_ckn</td>\n",
       "      <td>S</td>\n",
       "      <td>12.75</td>\n",
       "    </tr>\n",
       "    <tr>\n",
       "      <th>4</th>\n",
       "      <td>cali_ckn_m</td>\n",
       "      <td>cali_ckn</td>\n",
       "      <td>M</td>\n",
       "      <td>16.75</td>\n",
       "    </tr>\n",
       "  </tbody>\n",
       "</table>\n",
       "</div>"
      ],
      "text/plain": [
       "     pizza_id pizza_type_id size  price\n",
       "0   bbq_ckn_s       bbq_ckn    S  12.75\n",
       "1   bbq_ckn_m       bbq_ckn    M  16.75\n",
       "2   bbq_ckn_l       bbq_ckn    L  20.75\n",
       "3  cali_ckn_s      cali_ckn    S  12.75\n",
       "4  cali_ckn_m      cali_ckn    M  16.75"
      ]
     },
     "execution_count": 265,
     "metadata": {},
     "output_type": "execute_result"
    }
   ],
   "source": [
    "pizzas.head()"
   ]
  },
  {
   "cell_type": "code",
   "execution_count": 267,
   "id": "07d86449-55d2-4dcc-8e1d-01d81ffb23ad",
   "metadata": {},
   "outputs": [
    {
     "data": {
      "text/html": [
       "<div>\n",
       "<style scoped>\n",
       "    .dataframe tbody tr th:only-of-type {\n",
       "        vertical-align: middle;\n",
       "    }\n",
       "\n",
       "    .dataframe tbody tr th {\n",
       "        vertical-align: top;\n",
       "    }\n",
       "\n",
       "    .dataframe thead th {\n",
       "        text-align: right;\n",
       "    }\n",
       "</style>\n",
       "<table border=\"1\" class=\"dataframe\">\n",
       "  <thead>\n",
       "    <tr style=\"text-align: right;\">\n",
       "      <th></th>\n",
       "      <th>pizza_id</th>\n",
       "      <th>pizza_type_id</th>\n",
       "      <th>size</th>\n",
       "      <th>price</th>\n",
       "    </tr>\n",
       "  </thead>\n",
       "  <tbody>\n",
       "    <tr>\n",
       "      <th>91</th>\n",
       "      <td>spinach_fet_m</td>\n",
       "      <td>spinach_fet</td>\n",
       "      <td>M</td>\n",
       "      <td>16.00</td>\n",
       "    </tr>\n",
       "    <tr>\n",
       "      <th>92</th>\n",
       "      <td>spinach_fet_l</td>\n",
       "      <td>spinach_fet</td>\n",
       "      <td>L</td>\n",
       "      <td>20.25</td>\n",
       "    </tr>\n",
       "    <tr>\n",
       "      <th>93</th>\n",
       "      <td>veggie_veg_s</td>\n",
       "      <td>veggie_veg</td>\n",
       "      <td>S</td>\n",
       "      <td>12.00</td>\n",
       "    </tr>\n",
       "    <tr>\n",
       "      <th>94</th>\n",
       "      <td>veggie_veg_m</td>\n",
       "      <td>veggie_veg</td>\n",
       "      <td>M</td>\n",
       "      <td>16.00</td>\n",
       "    </tr>\n",
       "    <tr>\n",
       "      <th>95</th>\n",
       "      <td>veggie_veg_l</td>\n",
       "      <td>veggie_veg</td>\n",
       "      <td>L</td>\n",
       "      <td>20.25</td>\n",
       "    </tr>\n",
       "  </tbody>\n",
       "</table>\n",
       "</div>"
      ],
      "text/plain": [
       "         pizza_id pizza_type_id size  price\n",
       "91  spinach_fet_m   spinach_fet    M  16.00\n",
       "92  spinach_fet_l   spinach_fet    L  20.25\n",
       "93   veggie_veg_s    veggie_veg    S  12.00\n",
       "94   veggie_veg_m    veggie_veg    M  16.00\n",
       "95   veggie_veg_l    veggie_veg    L  20.25"
      ]
     },
     "execution_count": 267,
     "metadata": {},
     "output_type": "execute_result"
    }
   ],
   "source": [
    "pizzas.tail()"
   ]
  },
  {
   "cell_type": "code",
   "execution_count": 269,
   "id": "b2c02068-88f1-448c-b0fe-4bb8acb40424",
   "metadata": {},
   "outputs": [
    {
     "name": "stdout",
     "output_type": "stream",
     "text": [
      "<class 'pandas.core.frame.DataFrame'>\n",
      "RangeIndex: 96 entries, 0 to 95\n",
      "Data columns (total 4 columns):\n",
      " #   Column         Non-Null Count  Dtype  \n",
      "---  ------         --------------  -----  \n",
      " 0   pizza_id       96 non-null     object \n",
      " 1   pizza_type_id  96 non-null     object \n",
      " 2   size           96 non-null     object \n",
      " 3   price          96 non-null     float64\n",
      "dtypes: float64(1), object(3)\n",
      "memory usage: 3.1+ KB\n"
     ]
    }
   ],
   "source": [
    "pizzas.info()"
   ]
  },
  {
   "cell_type": "code",
   "execution_count": 271,
   "id": "84f4cfd9-1c13-42b8-89a5-80eec6703090",
   "metadata": {},
   "outputs": [
    {
     "data": {
      "text/plain": [
       "pizza_id        pizza_type_id  size  price\n",
       "bbq_ckn_l       bbq_ckn        L     20.75    1\n",
       "bbq_ckn_m       bbq_ckn        M     16.75    1\n",
       "southw_ckn_l    southw_ckn     L     20.75    1\n",
       "soppressata_s   soppressata    S     12.50    1\n",
       "soppressata_m   soppressata    M     16.50    1\n",
       "                                             ..\n",
       "green_garden_m  green_garden   M     16.00    1\n",
       "green_garden_l  green_garden   L     20.25    1\n",
       "four_cheese_s   four_cheese    S     11.75    1\n",
       "four_cheese_m   four_cheese    M     14.75    1\n",
       "veggie_veg_s    veggie_veg     S     12.00    1\n",
       "Name: count, Length: 96, dtype: int64"
      ]
     },
     "execution_count": 271,
     "metadata": {},
     "output_type": "execute_result"
    }
   ],
   "source": [
    "pizzas.value_counts()"
   ]
  },
  {
   "cell_type": "code",
   "execution_count": 273,
   "id": "3684003a-a018-4286-88bb-b67d41c5632c",
   "metadata": {},
   "outputs": [
    {
     "data": {
      "text/html": [
       "<div>\n",
       "<style scoped>\n",
       "    .dataframe tbody tr th:only-of-type {\n",
       "        vertical-align: middle;\n",
       "    }\n",
       "\n",
       "    .dataframe tbody tr th {\n",
       "        vertical-align: top;\n",
       "    }\n",
       "\n",
       "    .dataframe thead th {\n",
       "        text-align: right;\n",
       "    }\n",
       "</style>\n",
       "<table border=\"1\" class=\"dataframe\">\n",
       "  <thead>\n",
       "    <tr style=\"text-align: right;\">\n",
       "      <th></th>\n",
       "      <th>pizza_type_id</th>\n",
       "      <th>name</th>\n",
       "      <th>category</th>\n",
       "      <th>ingredients</th>\n",
       "    </tr>\n",
       "  </thead>\n",
       "  <tbody>\n",
       "    <tr>\n",
       "      <th>0</th>\n",
       "      <td>bbq_ckn</td>\n",
       "      <td>The Barbecue Chicken Pizza</td>\n",
       "      <td>Chicken</td>\n",
       "      <td>Barbecued Chicken, Red Peppers, Green Peppers,...</td>\n",
       "    </tr>\n",
       "    <tr>\n",
       "      <th>1</th>\n",
       "      <td>cali_ckn</td>\n",
       "      <td>The California Chicken Pizza</td>\n",
       "      <td>Chicken</td>\n",
       "      <td>Chicken, Artichoke, Spinach, Garlic, Jalapeno ...</td>\n",
       "    </tr>\n",
       "    <tr>\n",
       "      <th>2</th>\n",
       "      <td>ckn_alfredo</td>\n",
       "      <td>The Chicken Alfredo Pizza</td>\n",
       "      <td>Chicken</td>\n",
       "      <td>Chicken, Red Onions, Red Peppers, Mushrooms, A...</td>\n",
       "    </tr>\n",
       "    <tr>\n",
       "      <th>3</th>\n",
       "      <td>ckn_pesto</td>\n",
       "      <td>The Chicken Pesto Pizza</td>\n",
       "      <td>Chicken</td>\n",
       "      <td>Chicken, Tomatoes, Red Peppers, Spinach, Garli...</td>\n",
       "    </tr>\n",
       "    <tr>\n",
       "      <th>4</th>\n",
       "      <td>southw_ckn</td>\n",
       "      <td>The Southwest Chicken Pizza</td>\n",
       "      <td>Chicken</td>\n",
       "      <td>Chicken, Tomatoes, Red Peppers, Red Onions, Ja...</td>\n",
       "    </tr>\n",
       "    <tr>\n",
       "      <th>5</th>\n",
       "      <td>thai_ckn</td>\n",
       "      <td>The Thai Chicken Pizza</td>\n",
       "      <td>Chicken</td>\n",
       "      <td>Chicken, Pineapple, Tomatoes, Red Peppers, Tha...</td>\n",
       "    </tr>\n",
       "    <tr>\n",
       "      <th>6</th>\n",
       "      <td>big_meat</td>\n",
       "      <td>The Big Meat Pizza</td>\n",
       "      <td>Classic</td>\n",
       "      <td>Bacon, Pepperoni, Italian Sausage, Chorizo Sau...</td>\n",
       "    </tr>\n",
       "    <tr>\n",
       "      <th>7</th>\n",
       "      <td>classic_dlx</td>\n",
       "      <td>The Classic Deluxe Pizza</td>\n",
       "      <td>Classic</td>\n",
       "      <td>Pepperoni, Mushrooms, Red Onions, Red Peppers,...</td>\n",
       "    </tr>\n",
       "    <tr>\n",
       "      <th>8</th>\n",
       "      <td>hawaiian</td>\n",
       "      <td>The Hawaiian Pizza</td>\n",
       "      <td>Classic</td>\n",
       "      <td>Sliced Ham, Pineapple, Mozzarella Cheese</td>\n",
       "    </tr>\n",
       "    <tr>\n",
       "      <th>9</th>\n",
       "      <td>ital_cpcllo</td>\n",
       "      <td>The Italian Capocollo Pizza</td>\n",
       "      <td>Classic</td>\n",
       "      <td>Capocollo, Red Peppers, Tomatoes, Goat Cheese,...</td>\n",
       "    </tr>\n",
       "    <tr>\n",
       "      <th>10</th>\n",
       "      <td>napolitana</td>\n",
       "      <td>The Napolitana Pizza</td>\n",
       "      <td>Classic</td>\n",
       "      <td>Tomatoes, Anchovies, Green Olives, Red Onions,...</td>\n",
       "    </tr>\n",
       "    <tr>\n",
       "      <th>11</th>\n",
       "      <td>pep_msh_pep</td>\n",
       "      <td>The Pepperoni, Mushroom, and Peppers Pizza</td>\n",
       "      <td>Classic</td>\n",
       "      <td>Pepperoni, Mushrooms, Green Peppers</td>\n",
       "    </tr>\n",
       "    <tr>\n",
       "      <th>12</th>\n",
       "      <td>pepperoni</td>\n",
       "      <td>The Pepperoni Pizza</td>\n",
       "      <td>Classic</td>\n",
       "      <td>Mozzarella Cheese, Pepperoni</td>\n",
       "    </tr>\n",
       "    <tr>\n",
       "      <th>13</th>\n",
       "      <td>the_greek</td>\n",
       "      <td>The Greek Pizza</td>\n",
       "      <td>Classic</td>\n",
       "      <td>Kalamata Olives, Feta Cheese, Tomatoes, Garlic...</td>\n",
       "    </tr>\n",
       "    <tr>\n",
       "      <th>14</th>\n",
       "      <td>brie_carre</td>\n",
       "      <td>The Brie Carre Pizza</td>\n",
       "      <td>Supreme</td>\n",
       "      <td>Brie Carre Cheese, Prosciutto, Caramelized Oni...</td>\n",
       "    </tr>\n",
       "    <tr>\n",
       "      <th>15</th>\n",
       "      <td>calabrese</td>\n",
       "      <td>The Calabrese Pizza</td>\n",
       "      <td>Supreme</td>\n",
       "      <td>Nduja Salami, Pancetta, Tomatoes, Red Onions,...</td>\n",
       "    </tr>\n",
       "    <tr>\n",
       "      <th>16</th>\n",
       "      <td>ital_supr</td>\n",
       "      <td>The Italian Supreme Pizza</td>\n",
       "      <td>Supreme</td>\n",
       "      <td>Calabrese Salami, Capocollo, Tomatoes, Red Oni...</td>\n",
       "    </tr>\n",
       "    <tr>\n",
       "      <th>17</th>\n",
       "      <td>peppr_salami</td>\n",
       "      <td>The Pepper Salami Pizza</td>\n",
       "      <td>Supreme</td>\n",
       "      <td>Genoa Salami, Capocollo, Pepperoni, Tomatoes, ...</td>\n",
       "    </tr>\n",
       "    <tr>\n",
       "      <th>18</th>\n",
       "      <td>prsc_argla</td>\n",
       "      <td>The Prosciutto and Arugula Pizza</td>\n",
       "      <td>Supreme</td>\n",
       "      <td>Prosciutto di San Daniele, Arugula, Mozzarella...</td>\n",
       "    </tr>\n",
       "    <tr>\n",
       "      <th>19</th>\n",
       "      <td>sicilian</td>\n",
       "      <td>The Sicilian Pizza</td>\n",
       "      <td>Supreme</td>\n",
       "      <td>Coarse Sicilian Salami, Tomatoes, Green Olives...</td>\n",
       "    </tr>\n",
       "    <tr>\n",
       "      <th>20</th>\n",
       "      <td>soppressata</td>\n",
       "      <td>The Soppressata Pizza</td>\n",
       "      <td>Supreme</td>\n",
       "      <td>Soppressata Salami, Fontina Cheese, Mozzarella...</td>\n",
       "    </tr>\n",
       "    <tr>\n",
       "      <th>21</th>\n",
       "      <td>spicy_ital</td>\n",
       "      <td>The Spicy Italian Pizza</td>\n",
       "      <td>Supreme</td>\n",
       "      <td>Capocollo, Tomatoes, Goat Cheese, Artichokes, ...</td>\n",
       "    </tr>\n",
       "    <tr>\n",
       "      <th>22</th>\n",
       "      <td>spinach_supr</td>\n",
       "      <td>The Spinach Supreme Pizza</td>\n",
       "      <td>Supreme</td>\n",
       "      <td>Spinach, Red Onions, Pepperoni, Tomatoes, Arti...</td>\n",
       "    </tr>\n",
       "    <tr>\n",
       "      <th>23</th>\n",
       "      <td>five_cheese</td>\n",
       "      <td>The Five Cheese Pizza</td>\n",
       "      <td>Veggie</td>\n",
       "      <td>Mozzarella Cheese, Provolone Cheese, Smoked Go...</td>\n",
       "    </tr>\n",
       "    <tr>\n",
       "      <th>24</th>\n",
       "      <td>four_cheese</td>\n",
       "      <td>The Four Cheese Pizza</td>\n",
       "      <td>Veggie</td>\n",
       "      <td>Ricotta Cheese, Gorgonzola Piccante Cheese, Mo...</td>\n",
       "    </tr>\n",
       "    <tr>\n",
       "      <th>25</th>\n",
       "      <td>green_garden</td>\n",
       "      <td>The Green Garden Pizza</td>\n",
       "      <td>Veggie</td>\n",
       "      <td>Spinach, Mushrooms, Tomatoes, Green Olives, Fe...</td>\n",
       "    </tr>\n",
       "    <tr>\n",
       "      <th>26</th>\n",
       "      <td>ital_veggie</td>\n",
       "      <td>The Italian Vegetables Pizza</td>\n",
       "      <td>Veggie</td>\n",
       "      <td>Eggplant, Artichokes, Tomatoes, Zucchini, Red ...</td>\n",
       "    </tr>\n",
       "    <tr>\n",
       "      <th>27</th>\n",
       "      <td>mediterraneo</td>\n",
       "      <td>The Mediterranean Pizza</td>\n",
       "      <td>Veggie</td>\n",
       "      <td>Spinach, Artichokes, Kalamata Olives, Sun-drie...</td>\n",
       "    </tr>\n",
       "    <tr>\n",
       "      <th>28</th>\n",
       "      <td>mexicana</td>\n",
       "      <td>The Mexicana Pizza</td>\n",
       "      <td>Veggie</td>\n",
       "      <td>Tomatoes, Red Peppers, Jalapeno Peppers, Red O...</td>\n",
       "    </tr>\n",
       "    <tr>\n",
       "      <th>29</th>\n",
       "      <td>spin_pesto</td>\n",
       "      <td>The Spinach Pesto Pizza</td>\n",
       "      <td>Veggie</td>\n",
       "      <td>Spinach, Artichokes, Tomatoes, Sun-dried Tomat...</td>\n",
       "    </tr>\n",
       "    <tr>\n",
       "      <th>30</th>\n",
       "      <td>spinach_fet</td>\n",
       "      <td>The Spinach and Feta Pizza</td>\n",
       "      <td>Veggie</td>\n",
       "      <td>Spinach, Mushrooms, Red Onions, Feta Cheese, G...</td>\n",
       "    </tr>\n",
       "    <tr>\n",
       "      <th>31</th>\n",
       "      <td>veggie_veg</td>\n",
       "      <td>The Vegetables + Vegetables Pizza</td>\n",
       "      <td>Veggie</td>\n",
       "      <td>Mushrooms, Tomatoes, Red Peppers, Green Pepper...</td>\n",
       "    </tr>\n",
       "  </tbody>\n",
       "</table>\n",
       "</div>"
      ],
      "text/plain": [
       "   pizza_type_id                                        name category  \\\n",
       "0        bbq_ckn                  The Barbecue Chicken Pizza  Chicken   \n",
       "1       cali_ckn                The California Chicken Pizza  Chicken   \n",
       "2    ckn_alfredo                   The Chicken Alfredo Pizza  Chicken   \n",
       "3      ckn_pesto                     The Chicken Pesto Pizza  Chicken   \n",
       "4     southw_ckn                 The Southwest Chicken Pizza  Chicken   \n",
       "5       thai_ckn                      The Thai Chicken Pizza  Chicken   \n",
       "6       big_meat                          The Big Meat Pizza  Classic   \n",
       "7    classic_dlx                    The Classic Deluxe Pizza  Classic   \n",
       "8       hawaiian                          The Hawaiian Pizza  Classic   \n",
       "9    ital_cpcllo                 The Italian Capocollo Pizza  Classic   \n",
       "10    napolitana                        The Napolitana Pizza  Classic   \n",
       "11   pep_msh_pep  The Pepperoni, Mushroom, and Peppers Pizza  Classic   \n",
       "12     pepperoni                         The Pepperoni Pizza  Classic   \n",
       "13     the_greek                             The Greek Pizza  Classic   \n",
       "14    brie_carre                        The Brie Carre Pizza  Supreme   \n",
       "15     calabrese                         The Calabrese Pizza  Supreme   \n",
       "16     ital_supr                   The Italian Supreme Pizza  Supreme   \n",
       "17  peppr_salami                     The Pepper Salami Pizza  Supreme   \n",
       "18    prsc_argla            The Prosciutto and Arugula Pizza  Supreme   \n",
       "19      sicilian                          The Sicilian Pizza  Supreme   \n",
       "20   soppressata                       The Soppressata Pizza  Supreme   \n",
       "21    spicy_ital                     The Spicy Italian Pizza  Supreme   \n",
       "22  spinach_supr                   The Spinach Supreme Pizza  Supreme   \n",
       "23   five_cheese                       The Five Cheese Pizza   Veggie   \n",
       "24   four_cheese                       The Four Cheese Pizza   Veggie   \n",
       "25  green_garden                      The Green Garden Pizza   Veggie   \n",
       "26   ital_veggie                The Italian Vegetables Pizza   Veggie   \n",
       "27  mediterraneo                     The Mediterranean Pizza   Veggie   \n",
       "28      mexicana                          The Mexicana Pizza   Veggie   \n",
       "29    spin_pesto                     The Spinach Pesto Pizza   Veggie   \n",
       "30   spinach_fet                  The Spinach and Feta Pizza   Veggie   \n",
       "31    veggie_veg           The Vegetables + Vegetables Pizza   Veggie   \n",
       "\n",
       "                                          ingredients  \n",
       "0   Barbecued Chicken, Red Peppers, Green Peppers,...  \n",
       "1   Chicken, Artichoke, Spinach, Garlic, Jalapeno ...  \n",
       "2   Chicken, Red Onions, Red Peppers, Mushrooms, A...  \n",
       "3   Chicken, Tomatoes, Red Peppers, Spinach, Garli...  \n",
       "4   Chicken, Tomatoes, Red Peppers, Red Onions, Ja...  \n",
       "5   Chicken, Pineapple, Tomatoes, Red Peppers, Tha...  \n",
       "6   Bacon, Pepperoni, Italian Sausage, Chorizo Sau...  \n",
       "7   Pepperoni, Mushrooms, Red Onions, Red Peppers,...  \n",
       "8            Sliced Ham, Pineapple, Mozzarella Cheese  \n",
       "9   Capocollo, Red Peppers, Tomatoes, Goat Cheese,...  \n",
       "10  Tomatoes, Anchovies, Green Olives, Red Onions,...  \n",
       "11                Pepperoni, Mushrooms, Green Peppers  \n",
       "12                       Mozzarella Cheese, Pepperoni  \n",
       "13  Kalamata Olives, Feta Cheese, Tomatoes, Garlic...  \n",
       "14  Brie Carre Cheese, Prosciutto, Caramelized Oni...  \n",
       "15  Nduja Salami, Pancetta, Tomatoes, Red Onions,...  \n",
       "16  Calabrese Salami, Capocollo, Tomatoes, Red Oni...  \n",
       "17  Genoa Salami, Capocollo, Pepperoni, Tomatoes, ...  \n",
       "18  Prosciutto di San Daniele, Arugula, Mozzarella...  \n",
       "19  Coarse Sicilian Salami, Tomatoes, Green Olives...  \n",
       "20  Soppressata Salami, Fontina Cheese, Mozzarella...  \n",
       "21  Capocollo, Tomatoes, Goat Cheese, Artichokes, ...  \n",
       "22  Spinach, Red Onions, Pepperoni, Tomatoes, Arti...  \n",
       "23  Mozzarella Cheese, Provolone Cheese, Smoked Go...  \n",
       "24  Ricotta Cheese, Gorgonzola Piccante Cheese, Mo...  \n",
       "25  Spinach, Mushrooms, Tomatoes, Green Olives, Fe...  \n",
       "26  Eggplant, Artichokes, Tomatoes, Zucchini, Red ...  \n",
       "27  Spinach, Artichokes, Kalamata Olives, Sun-drie...  \n",
       "28  Tomatoes, Red Peppers, Jalapeno Peppers, Red O...  \n",
       "29  Spinach, Artichokes, Tomatoes, Sun-dried Tomat...  \n",
       "30  Spinach, Mushrooms, Red Onions, Feta Cheese, G...  \n",
       "31  Mushrooms, Tomatoes, Red Peppers, Green Pepper...  "
      ]
     },
     "execution_count": 273,
     "metadata": {},
     "output_type": "execute_result"
    }
   ],
   "source": [
    "pizza_types"
   ]
  },
  {
   "cell_type": "code",
   "execution_count": 275,
   "id": "054c7e0e-abde-4bad-b4e5-b1cb46d3ca40",
   "metadata": {},
   "outputs": [
    {
     "data": {
      "text/html": [
       "<div>\n",
       "<style scoped>\n",
       "    .dataframe tbody tr th:only-of-type {\n",
       "        vertical-align: middle;\n",
       "    }\n",
       "\n",
       "    .dataframe tbody tr th {\n",
       "        vertical-align: top;\n",
       "    }\n",
       "\n",
       "    .dataframe thead th {\n",
       "        text-align: right;\n",
       "    }\n",
       "</style>\n",
       "<table border=\"1\" class=\"dataframe\">\n",
       "  <thead>\n",
       "    <tr style=\"text-align: right;\">\n",
       "      <th></th>\n",
       "      <th>pizza_type_id</th>\n",
       "      <th>name</th>\n",
       "      <th>category</th>\n",
       "      <th>ingredients</th>\n",
       "    </tr>\n",
       "  </thead>\n",
       "  <tbody>\n",
       "    <tr>\n",
       "      <th>0</th>\n",
       "      <td>bbq_ckn</td>\n",
       "      <td>The Barbecue Chicken Pizza</td>\n",
       "      <td>Chicken</td>\n",
       "      <td>Barbecued Chicken, Red Peppers, Green Peppers,...</td>\n",
       "    </tr>\n",
       "    <tr>\n",
       "      <th>1</th>\n",
       "      <td>cali_ckn</td>\n",
       "      <td>The California Chicken Pizza</td>\n",
       "      <td>Chicken</td>\n",
       "      <td>Chicken, Artichoke, Spinach, Garlic, Jalapeno ...</td>\n",
       "    </tr>\n",
       "    <tr>\n",
       "      <th>2</th>\n",
       "      <td>ckn_alfredo</td>\n",
       "      <td>The Chicken Alfredo Pizza</td>\n",
       "      <td>Chicken</td>\n",
       "      <td>Chicken, Red Onions, Red Peppers, Mushrooms, A...</td>\n",
       "    </tr>\n",
       "    <tr>\n",
       "      <th>3</th>\n",
       "      <td>ckn_pesto</td>\n",
       "      <td>The Chicken Pesto Pizza</td>\n",
       "      <td>Chicken</td>\n",
       "      <td>Chicken, Tomatoes, Red Peppers, Spinach, Garli...</td>\n",
       "    </tr>\n",
       "    <tr>\n",
       "      <th>4</th>\n",
       "      <td>southw_ckn</td>\n",
       "      <td>The Southwest Chicken Pizza</td>\n",
       "      <td>Chicken</td>\n",
       "      <td>Chicken, Tomatoes, Red Peppers, Red Onions, Ja...</td>\n",
       "    </tr>\n",
       "  </tbody>\n",
       "</table>\n",
       "</div>"
      ],
      "text/plain": [
       "  pizza_type_id                          name category  \\\n",
       "0       bbq_ckn    The Barbecue Chicken Pizza  Chicken   \n",
       "1      cali_ckn  The California Chicken Pizza  Chicken   \n",
       "2   ckn_alfredo     The Chicken Alfredo Pizza  Chicken   \n",
       "3     ckn_pesto       The Chicken Pesto Pizza  Chicken   \n",
       "4    southw_ckn   The Southwest Chicken Pizza  Chicken   \n",
       "\n",
       "                                         ingredients  \n",
       "0  Barbecued Chicken, Red Peppers, Green Peppers,...  \n",
       "1  Chicken, Artichoke, Spinach, Garlic, Jalapeno ...  \n",
       "2  Chicken, Red Onions, Red Peppers, Mushrooms, A...  \n",
       "3  Chicken, Tomatoes, Red Peppers, Spinach, Garli...  \n",
       "4  Chicken, Tomatoes, Red Peppers, Red Onions, Ja...  "
      ]
     },
     "execution_count": 275,
     "metadata": {},
     "output_type": "execute_result"
    }
   ],
   "source": [
    "pizza_types.head()"
   ]
  },
  {
   "cell_type": "code",
   "execution_count": 277,
   "id": "01ba0c5d-f9f3-494e-b278-c2376e59311f",
   "metadata": {},
   "outputs": [
    {
     "data": {
      "text/html": [
       "<div>\n",
       "<style scoped>\n",
       "    .dataframe tbody tr th:only-of-type {\n",
       "        vertical-align: middle;\n",
       "    }\n",
       "\n",
       "    .dataframe tbody tr th {\n",
       "        vertical-align: top;\n",
       "    }\n",
       "\n",
       "    .dataframe thead th {\n",
       "        text-align: right;\n",
       "    }\n",
       "</style>\n",
       "<table border=\"1\" class=\"dataframe\">\n",
       "  <thead>\n",
       "    <tr style=\"text-align: right;\">\n",
       "      <th></th>\n",
       "      <th>pizza_type_id</th>\n",
       "      <th>name</th>\n",
       "      <th>category</th>\n",
       "      <th>ingredients</th>\n",
       "    </tr>\n",
       "  </thead>\n",
       "  <tbody>\n",
       "    <tr>\n",
       "      <th>27</th>\n",
       "      <td>mediterraneo</td>\n",
       "      <td>The Mediterranean Pizza</td>\n",
       "      <td>Veggie</td>\n",
       "      <td>Spinach, Artichokes, Kalamata Olives, Sun-drie...</td>\n",
       "    </tr>\n",
       "    <tr>\n",
       "      <th>28</th>\n",
       "      <td>mexicana</td>\n",
       "      <td>The Mexicana Pizza</td>\n",
       "      <td>Veggie</td>\n",
       "      <td>Tomatoes, Red Peppers, Jalapeno Peppers, Red O...</td>\n",
       "    </tr>\n",
       "    <tr>\n",
       "      <th>29</th>\n",
       "      <td>spin_pesto</td>\n",
       "      <td>The Spinach Pesto Pizza</td>\n",
       "      <td>Veggie</td>\n",
       "      <td>Spinach, Artichokes, Tomatoes, Sun-dried Tomat...</td>\n",
       "    </tr>\n",
       "    <tr>\n",
       "      <th>30</th>\n",
       "      <td>spinach_fet</td>\n",
       "      <td>The Spinach and Feta Pizza</td>\n",
       "      <td>Veggie</td>\n",
       "      <td>Spinach, Mushrooms, Red Onions, Feta Cheese, G...</td>\n",
       "    </tr>\n",
       "    <tr>\n",
       "      <th>31</th>\n",
       "      <td>veggie_veg</td>\n",
       "      <td>The Vegetables + Vegetables Pizza</td>\n",
       "      <td>Veggie</td>\n",
       "      <td>Mushrooms, Tomatoes, Red Peppers, Green Pepper...</td>\n",
       "    </tr>\n",
       "  </tbody>\n",
       "</table>\n",
       "</div>"
      ],
      "text/plain": [
       "   pizza_type_id                               name category  \\\n",
       "27  mediterraneo            The Mediterranean Pizza   Veggie   \n",
       "28      mexicana                 The Mexicana Pizza   Veggie   \n",
       "29    spin_pesto            The Spinach Pesto Pizza   Veggie   \n",
       "30   spinach_fet         The Spinach and Feta Pizza   Veggie   \n",
       "31    veggie_veg  The Vegetables + Vegetables Pizza   Veggie   \n",
       "\n",
       "                                          ingredients  \n",
       "27  Spinach, Artichokes, Kalamata Olives, Sun-drie...  \n",
       "28  Tomatoes, Red Peppers, Jalapeno Peppers, Red O...  \n",
       "29  Spinach, Artichokes, Tomatoes, Sun-dried Tomat...  \n",
       "30  Spinach, Mushrooms, Red Onions, Feta Cheese, G...  \n",
       "31  Mushrooms, Tomatoes, Red Peppers, Green Pepper...  "
      ]
     },
     "execution_count": 277,
     "metadata": {},
     "output_type": "execute_result"
    }
   ],
   "source": [
    "pizza_types.tail()"
   ]
  },
  {
   "cell_type": "code",
   "execution_count": 279,
   "id": "5ae43926-522e-41a3-b784-70d5a92ca8f5",
   "metadata": {},
   "outputs": [
    {
     "name": "stdout",
     "output_type": "stream",
     "text": [
      "<class 'pandas.core.frame.DataFrame'>\n",
      "RangeIndex: 32 entries, 0 to 31\n",
      "Data columns (total 4 columns):\n",
      " #   Column         Non-Null Count  Dtype \n",
      "---  ------         --------------  ----- \n",
      " 0   pizza_type_id  32 non-null     object\n",
      " 1   name           32 non-null     object\n",
      " 2   category       32 non-null     object\n",
      " 3   ingredients    32 non-null     object\n",
      "dtypes: object(4)\n",
      "memory usage: 1.1+ KB\n"
     ]
    }
   ],
   "source": [
    "pizza_types.info()"
   ]
  },
  {
   "cell_type": "code",
   "execution_count": 281,
   "id": "62db73b2-fff8-4a50-a5c3-14922d1e35e5",
   "metadata": {},
   "outputs": [
    {
     "data": {
      "text/plain": [
       "pizza_type_id  name                                        category  ingredients                                                                                      \n",
       "bbq_ckn        The Barbecue Chicken Pizza                  Chicken   Barbecued Chicken, Red Peppers, Green Peppers, Tomatoes, Red Onions, Barbecue Sauce                  1\n",
       "big_meat       The Big Meat Pizza                          Classic   Bacon, Pepperoni, Italian Sausage, Chorizo Sausage                                                   1\n",
       "the_greek      The Greek Pizza                             Classic   Kalamata Olives, Feta Cheese, Tomatoes, Garlic, Beef Chuck Roast, Red Onions                         1\n",
       "thai_ckn       The Thai Chicken Pizza                      Chicken   Chicken, Pineapple, Tomatoes, Red Peppers, Thai Sweet Chilli Sauce                                   1\n",
       "spinach_supr   The Spinach Supreme Pizza                   Supreme   Spinach, Red Onions, Pepperoni, Tomatoes, Artichokes, Kalamata Olives, Garlic, Asiago Cheese         1\n",
       "spinach_fet    The Spinach and Feta Pizza                  Veggie    Spinach, Mushrooms, Red Onions, Feta Cheese, Garlic                                                  1\n",
       "spin_pesto     The Spinach Pesto Pizza                     Veggie    Spinach, Artichokes, Tomatoes, Sun-dried Tomatoes, Garlic, Pesto Sauce                               1\n",
       "spicy_ital     The Spicy Italian Pizza                     Supreme   Capocollo, Tomatoes, Goat Cheese, Artichokes, Peperoncini verdi, Garlic                              1\n",
       "southw_ckn     The Southwest Chicken Pizza                 Chicken   Chicken, Tomatoes, Red Peppers, Red Onions, Jalapeno Peppers, Corn, Cilantro, Chipotle Sauce         1\n",
       "soppressata    The Soppressata Pizza                       Supreme   Soppressata Salami, Fontina Cheese, Mozzarella Cheese, Mushrooms, Garlic                             1\n",
       "sicilian       The Sicilian Pizza                          Supreme   Coarse Sicilian Salami, Tomatoes, Green Olives, Luganega Sausage, Onions, Garlic                     1\n",
       "prsc_argla     The Prosciutto and Arugula Pizza            Supreme   Prosciutto di San Daniele, Arugula, Mozzarella Cheese                                                1\n",
       "peppr_salami   The Pepper Salami Pizza                     Supreme   Genoa Salami, Capocollo, Pepperoni, Tomatoes, Asiago Cheese, Garlic                                  1\n",
       "pepperoni      The Pepperoni Pizza                         Classic   Mozzarella Cheese, Pepperoni                                                                         1\n",
       "pep_msh_pep    The Pepperoni, Mushroom, and Peppers Pizza  Classic   Pepperoni, Mushrooms, Green Peppers                                                                  1\n",
       "napolitana     The Napolitana Pizza                        Classic   Tomatoes, Anchovies, Green Olives, Red Onions, Garlic                                                1\n",
       "mexicana       The Mexicana Pizza                          Veggie    Tomatoes, Red Peppers, Jalapeno Peppers, Red Onions, Cilantro, Corn, Chipotle Sauce, Garlic          1\n",
       "mediterraneo   The Mediterranean Pizza                     Veggie    Spinach, Artichokes, Kalamata Olives, Sun-dried Tomatoes, Feta Cheese, Plum Tomatoes, Red Onions     1\n",
       "ital_veggie    The Italian Vegetables Pizza                Veggie    Eggplant, Artichokes, Tomatoes, Zucchini, Red Peppers, Garlic, Pesto Sauce                           1\n",
       "ital_supr      The Italian Supreme Pizza                   Supreme   Calabrese Salami, Capocollo, Tomatoes, Red Onions, Green Olives, Garlic                              1\n",
       "ital_cpcllo    The Italian Capocollo Pizza                 Classic   Capocollo, Red Peppers, Tomatoes, Goat Cheese, Garlic, Oregano                                       1\n",
       "hawaiian       The Hawaiian Pizza                          Classic   Sliced Ham, Pineapple, Mozzarella Cheese                                                             1\n",
       "green_garden   The Green Garden Pizza                      Veggie    Spinach, Mushrooms, Tomatoes, Green Olives, Feta Cheese                                              1\n",
       "four_cheese    The Four Cheese Pizza                       Veggie    Ricotta Cheese, Gorgonzola Piccante Cheese, Mozzarella Cheese, Parmigiano Reggiano Cheese, Garlic    1\n",
       "five_cheese    The Five Cheese Pizza                       Veggie    Mozzarella Cheese, Provolone Cheese, Smoked Gouda Cheese, Romano Cheese, Blue Cheese, Garlic         1\n",
       "classic_dlx    The Classic Deluxe Pizza                    Classic   Pepperoni, Mushrooms, Red Onions, Red Peppers, Bacon                                                 1\n",
       "ckn_pesto      The Chicken Pesto Pizza                     Chicken   Chicken, Tomatoes, Red Peppers, Spinach, Garlic, Pesto Sauce                                         1\n",
       "ckn_alfredo    The Chicken Alfredo Pizza                   Chicken   Chicken, Red Onions, Red Peppers, Mushrooms, Asiago Cheese, Alfredo Sauce                            1\n",
       "cali_ckn       The California Chicken Pizza                Chicken   Chicken, Artichoke, Spinach, Garlic, Jalapeno Peppers, Fontina Cheese, Gouda Cheese                  1\n",
       "calabrese      The Calabrese Pizza                         Supreme   Nduja Salami, Pancetta, Tomatoes, Red Onions, Friggitello Peppers, Garlic                           1\n",
       "brie_carre     The Brie Carre Pizza                        Supreme   Brie Carre Cheese, Prosciutto, Caramelized Onions, Pears, Thyme, Garlic                              1\n",
       "veggie_veg     The Vegetables + Vegetables Pizza           Veggie    Mushrooms, Tomatoes, Red Peppers, Green Peppers, Red Onions, Zucchini, Spinach, Garlic               1\n",
       "Name: count, dtype: int64"
      ]
     },
     "execution_count": 281,
     "metadata": {},
     "output_type": "execute_result"
    }
   ],
   "source": [
    "pizza_types.value_counts()"
   ]
  },
  {
   "cell_type": "code",
   "execution_count": 283,
   "id": "6b5aca48-a556-4ab1-b5cc-4ba8b3407e72",
   "metadata": {},
   "outputs": [
    {
     "data": {
      "text/plain": [
       "category\n",
       "Supreme    9\n",
       "Veggie     9\n",
       "Classic    8\n",
       "Chicken    6\n",
       "Name: count, dtype: int64"
      ]
     },
     "execution_count": 283,
     "metadata": {},
     "output_type": "execute_result"
    }
   ],
   "source": [
    "pizza_types[\"category\"].value_counts()"
   ]
  },
  {
   "cell_type": "code",
   "execution_count": 285,
   "id": "04fa82e0-7a65-42b4-a562-dee620392448",
   "metadata": {},
   "outputs": [
    {
     "data": {
      "text/plain": [
       "name\n",
       "The Barbecue Chicken Pizza                    1\n",
       "The California Chicken Pizza                  1\n",
       "The Spinach and Feta Pizza                    1\n",
       "The Spinach Pesto Pizza                       1\n",
       "The Mexicana Pizza                            1\n",
       "The Mediterranean Pizza                       1\n",
       "The Italian Vegetables Pizza                  1\n",
       "The Green Garden Pizza                        1\n",
       "The Four Cheese Pizza                         1\n",
       "The Five Cheese Pizza                         1\n",
       "The Spinach Supreme Pizza                     1\n",
       "The Spicy Italian Pizza                       1\n",
       "The Soppressata Pizza                         1\n",
       "The Sicilian Pizza                            1\n",
       "The Prosciutto and Arugula Pizza              1\n",
       "The Pepper Salami Pizza                       1\n",
       "The Italian Supreme Pizza                     1\n",
       "The Calabrese Pizza                           1\n",
       "The Brie Carre Pizza                          1\n",
       "The Greek Pizza                               1\n",
       "The Pepperoni Pizza                           1\n",
       "The Pepperoni, Mushroom, and Peppers Pizza    1\n",
       "The Napolitana Pizza                          1\n",
       "The Italian Capocollo Pizza                   1\n",
       "The Hawaiian Pizza                            1\n",
       "The Classic Deluxe Pizza                      1\n",
       "The Big Meat Pizza                            1\n",
       "The Thai Chicken Pizza                        1\n",
       "The Southwest Chicken Pizza                   1\n",
       "The Chicken Pesto Pizza                       1\n",
       "The Chicken Alfredo Pizza                     1\n",
       "The Vegetables + Vegetables Pizza             1\n",
       "Name: count, dtype: int64"
      ]
     },
     "execution_count": 285,
     "metadata": {},
     "output_type": "execute_result"
    }
   ],
   "source": [
    "pizza_types[\"name\"].value_counts()"
   ]
  },
  {
   "cell_type": "code",
   "execution_count": 287,
   "id": "f89d763a-7df7-400a-b298-55009f92d6a5",
   "metadata": {},
   "outputs": [
    {
     "data": {
      "text/plain": [
       "ingredients\n",
       "Barbecued Chicken, Red Peppers, Green Peppers, Tomatoes, Red Onions, Barbecue Sauce                  1\n",
       "Chicken, Artichoke, Spinach, Garlic, Jalapeno Peppers, Fontina Cheese, Gouda Cheese                  1\n",
       "Spinach, Mushrooms, Red Onions, Feta Cheese, Garlic                                                  1\n",
       "Spinach, Artichokes, Tomatoes, Sun-dried Tomatoes, Garlic, Pesto Sauce                               1\n",
       "Tomatoes, Red Peppers, Jalapeno Peppers, Red Onions, Cilantro, Corn, Chipotle Sauce, Garlic          1\n",
       "Spinach, Artichokes, Kalamata Olives, Sun-dried Tomatoes, Feta Cheese, Plum Tomatoes, Red Onions     1\n",
       "Eggplant, Artichokes, Tomatoes, Zucchini, Red Peppers, Garlic, Pesto Sauce                           1\n",
       "Spinach, Mushrooms, Tomatoes, Green Olives, Feta Cheese                                              1\n",
       "Ricotta Cheese, Gorgonzola Piccante Cheese, Mozzarella Cheese, Parmigiano Reggiano Cheese, Garlic    1\n",
       "Mozzarella Cheese, Provolone Cheese, Smoked Gouda Cheese, Romano Cheese, Blue Cheese, Garlic         1\n",
       "Spinach, Red Onions, Pepperoni, Tomatoes, Artichokes, Kalamata Olives, Garlic, Asiago Cheese         1\n",
       "Capocollo, Tomatoes, Goat Cheese, Artichokes, Peperoncini verdi, Garlic                              1\n",
       "Soppressata Salami, Fontina Cheese, Mozzarella Cheese, Mushrooms, Garlic                             1\n",
       "Coarse Sicilian Salami, Tomatoes, Green Olives, Luganega Sausage, Onions, Garlic                     1\n",
       "Prosciutto di San Daniele, Arugula, Mozzarella Cheese                                                1\n",
       "Genoa Salami, Capocollo, Pepperoni, Tomatoes, Asiago Cheese, Garlic                                  1\n",
       "Calabrese Salami, Capocollo, Tomatoes, Red Onions, Green Olives, Garlic                              1\n",
       "Nduja Salami, Pancetta, Tomatoes, Red Onions, Friggitello Peppers, Garlic                           1\n",
       "Brie Carre Cheese, Prosciutto, Caramelized Onions, Pears, Thyme, Garlic                              1\n",
       "Kalamata Olives, Feta Cheese, Tomatoes, Garlic, Beef Chuck Roast, Red Onions                         1\n",
       "Mozzarella Cheese, Pepperoni                                                                         1\n",
       "Pepperoni, Mushrooms, Green Peppers                                                                  1\n",
       "Tomatoes, Anchovies, Green Olives, Red Onions, Garlic                                                1\n",
       "Capocollo, Red Peppers, Tomatoes, Goat Cheese, Garlic, Oregano                                       1\n",
       "Sliced Ham, Pineapple, Mozzarella Cheese                                                             1\n",
       "Pepperoni, Mushrooms, Red Onions, Red Peppers, Bacon                                                 1\n",
       "Bacon, Pepperoni, Italian Sausage, Chorizo Sausage                                                   1\n",
       "Chicken, Pineapple, Tomatoes, Red Peppers, Thai Sweet Chilli Sauce                                   1\n",
       "Chicken, Tomatoes, Red Peppers, Red Onions, Jalapeno Peppers, Corn, Cilantro, Chipotle Sauce         1\n",
       "Chicken, Tomatoes, Red Peppers, Spinach, Garlic, Pesto Sauce                                         1\n",
       "Chicken, Red Onions, Red Peppers, Mushrooms, Asiago Cheese, Alfredo Sauce                            1\n",
       "Mushrooms, Tomatoes, Red Peppers, Green Peppers, Red Onions, Zucchini, Spinach, Garlic               1\n",
       "Name: count, dtype: int64"
      ]
     },
     "execution_count": 287,
     "metadata": {},
     "output_type": "execute_result"
    }
   ],
   "source": [
    "pizza_types[\"ingredients\"].value_counts()"
   ]
  },
  {
   "cell_type": "code",
   "execution_count": 289,
   "id": "7e0ed07e-c9f6-4485-8a59-0a7f8f7a76e7",
   "metadata": {},
   "outputs": [
    {
     "data": {
      "text/plain": [
       "0     False\n",
       "1     False\n",
       "2     False\n",
       "3     False\n",
       "4     False\n",
       "5     False\n",
       "6     False\n",
       "7     False\n",
       "8     False\n",
       "9     False\n",
       "10    False\n",
       "11    False\n",
       "12    False\n",
       "13    False\n",
       "14    False\n",
       "15    False\n",
       "16    False\n",
       "17    False\n",
       "18    False\n",
       "19    False\n",
       "20    False\n",
       "21    False\n",
       "22    False\n",
       "23    False\n",
       "24    False\n",
       "25    False\n",
       "26    False\n",
       "27    False\n",
       "28    False\n",
       "29    False\n",
       "30    False\n",
       "31    False\n",
       "dtype: bool"
      ]
     },
     "execution_count": 289,
     "metadata": {},
     "output_type": "execute_result"
    }
   ],
   "source": [
    "pizza_types.duplicated()"
   ]
  },
  {
   "cell_type": "code",
   "execution_count": 291,
   "id": "76ddafe6-a667-40bb-8953-ac60607b26de",
   "metadata": {},
   "outputs": [
    {
     "data": {
      "text/plain": [
       "0        False\n",
       "1        False\n",
       "2        False\n",
       "3        False\n",
       "4        False\n",
       "         ...  \n",
       "21345    False\n",
       "21346    False\n",
       "21347    False\n",
       "21348    False\n",
       "21349    False\n",
       "Length: 21350, dtype: bool"
      ]
     },
     "execution_count": 291,
     "metadata": {},
     "output_type": "execute_result"
    }
   ],
   "source": [
    "orders.duplicated()"
   ]
  },
  {
   "cell_type": "code",
   "execution_count": 293,
   "id": "1f9abfeb-b668-4805-9861-3810bde7f27d",
   "metadata": {},
   "outputs": [
    {
     "data": {
      "text/plain": [
       "0        False\n",
       "1        False\n",
       "2        False\n",
       "3        False\n",
       "4        False\n",
       "         ...  \n",
       "48615    False\n",
       "48616    False\n",
       "48617    False\n",
       "48618    False\n",
       "48619    False\n",
       "Length: 48620, dtype: bool"
      ]
     },
     "execution_count": 293,
     "metadata": {},
     "output_type": "execute_result"
    }
   ],
   "source": [
    "orders_details.duplicated()"
   ]
  },
  {
   "cell_type": "code",
   "execution_count": 295,
   "id": "3f15925a-2575-4a67-86df-0ba7150ffc0d",
   "metadata": {},
   "outputs": [
    {
     "data": {
      "text/plain": [
       "0     False\n",
       "1     False\n",
       "2     False\n",
       "3     False\n",
       "4     False\n",
       "      ...  \n",
       "91    False\n",
       "92    False\n",
       "93    False\n",
       "94    False\n",
       "95    False\n",
       "Length: 96, dtype: bool"
      ]
     },
     "execution_count": 295,
     "metadata": {},
     "output_type": "execute_result"
    }
   ],
   "source": [
    "pizzas.duplicated()"
   ]
  },
  {
   "cell_type": "markdown",
   "id": "51846429-e6dc-42bb-93c8-af83e2a65568",
   "metadata": {},
   "source": [
    "- ##### Merge the Datasets"
   ]
  },
  {
   "cell_type": "markdown",
   "id": "75766c54-26d3-420d-b53f-2deaaa3b3cbe",
   "metadata": {},
   "source": [
    "- Merging order, pizza, and pizza type data to create a comprehensive dataset for analysis."
   ]
  },
  {
   "cell_type": "code",
   "execution_count": 451,
   "id": "209db12d-ee0f-4f86-a491-07c92ef232a5",
   "metadata": {},
   "outputs": [],
   "source": [
    "merged_data = (pd.merge(orders_details, orders, on='order_id')\n",
    "             .merge(pizzas, on='pizza_id')\n",
    "             .merge(pizza_types, on='pizza_type_id')) #all data are merged as one "
   ]
  },
  {
   "cell_type": "code",
   "execution_count": 453,
   "id": "07725003-d1ff-42b8-adc1-dfaf723882a9",
   "metadata": {},
   "outputs": [
    {
     "data": {
      "text/html": [
       "<div>\n",
       "<style scoped>\n",
       "    .dataframe tbody tr th:only-of-type {\n",
       "        vertical-align: middle;\n",
       "    }\n",
       "\n",
       "    .dataframe tbody tr th {\n",
       "        vertical-align: top;\n",
       "    }\n",
       "\n",
       "    .dataframe thead th {\n",
       "        text-align: right;\n",
       "    }\n",
       "</style>\n",
       "<table border=\"1\" class=\"dataframe\">\n",
       "  <thead>\n",
       "    <tr style=\"text-align: right;\">\n",
       "      <th></th>\n",
       "      <th>order_details_id</th>\n",
       "      <th>order_id</th>\n",
       "      <th>pizza_id</th>\n",
       "      <th>quantity</th>\n",
       "      <th>date</th>\n",
       "      <th>time</th>\n",
       "      <th>Order day</th>\n",
       "      <th>pizza_type_id</th>\n",
       "      <th>size</th>\n",
       "      <th>price</th>\n",
       "      <th>name</th>\n",
       "      <th>category</th>\n",
       "      <th>ingredients</th>\n",
       "    </tr>\n",
       "  </thead>\n",
       "  <tbody>\n",
       "    <tr>\n",
       "      <th>0</th>\n",
       "      <td>1</td>\n",
       "      <td>1</td>\n",
       "      <td>hawaiian_m</td>\n",
       "      <td>1</td>\n",
       "      <td>2015-01-01</td>\n",
       "      <td>1900-01-01 11:38:36</td>\n",
       "      <td>Thursday</td>\n",
       "      <td>hawaiian</td>\n",
       "      <td>M</td>\n",
       "      <td>13.25</td>\n",
       "      <td>The Hawaiian Pizza</td>\n",
       "      <td>Classic</td>\n",
       "      <td>Sliced Ham, Pineapple, Mozzarella Cheese</td>\n",
       "    </tr>\n",
       "    <tr>\n",
       "      <th>1</th>\n",
       "      <td>2</td>\n",
       "      <td>2</td>\n",
       "      <td>classic_dlx_m</td>\n",
       "      <td>1</td>\n",
       "      <td>2015-01-01</td>\n",
       "      <td>1900-01-01 11:57:40</td>\n",
       "      <td>Thursday</td>\n",
       "      <td>classic_dlx</td>\n",
       "      <td>M</td>\n",
       "      <td>16.00</td>\n",
       "      <td>The Classic Deluxe Pizza</td>\n",
       "      <td>Classic</td>\n",
       "      <td>Pepperoni, Mushrooms, Red Onions, Red Peppers,...</td>\n",
       "    </tr>\n",
       "    <tr>\n",
       "      <th>2</th>\n",
       "      <td>3</td>\n",
       "      <td>2</td>\n",
       "      <td>five_cheese_l</td>\n",
       "      <td>1</td>\n",
       "      <td>2015-01-01</td>\n",
       "      <td>1900-01-01 11:57:40</td>\n",
       "      <td>Thursday</td>\n",
       "      <td>five_cheese</td>\n",
       "      <td>L</td>\n",
       "      <td>18.50</td>\n",
       "      <td>The Five Cheese Pizza</td>\n",
       "      <td>Veggie</td>\n",
       "      <td>Mozzarella Cheese, Provolone Cheese, Smoked Go...</td>\n",
       "    </tr>\n",
       "    <tr>\n",
       "      <th>3</th>\n",
       "      <td>4</td>\n",
       "      <td>2</td>\n",
       "      <td>ital_supr_l</td>\n",
       "      <td>1</td>\n",
       "      <td>2015-01-01</td>\n",
       "      <td>1900-01-01 11:57:40</td>\n",
       "      <td>Thursday</td>\n",
       "      <td>ital_supr</td>\n",
       "      <td>L</td>\n",
       "      <td>20.75</td>\n",
       "      <td>The Italian Supreme Pizza</td>\n",
       "      <td>Supreme</td>\n",
       "      <td>Calabrese Salami, Capocollo, Tomatoes, Red Oni...</td>\n",
       "    </tr>\n",
       "    <tr>\n",
       "      <th>4</th>\n",
       "      <td>5</td>\n",
       "      <td>2</td>\n",
       "      <td>mexicana_m</td>\n",
       "      <td>1</td>\n",
       "      <td>2015-01-01</td>\n",
       "      <td>1900-01-01 11:57:40</td>\n",
       "      <td>Thursday</td>\n",
       "      <td>mexicana</td>\n",
       "      <td>M</td>\n",
       "      <td>16.00</td>\n",
       "      <td>The Mexicana Pizza</td>\n",
       "      <td>Veggie</td>\n",
       "      <td>Tomatoes, Red Peppers, Jalapeno Peppers, Red O...</td>\n",
       "    </tr>\n",
       "    <tr>\n",
       "      <th>...</th>\n",
       "      <td>...</td>\n",
       "      <td>...</td>\n",
       "      <td>...</td>\n",
       "      <td>...</td>\n",
       "      <td>...</td>\n",
       "      <td>...</td>\n",
       "      <td>...</td>\n",
       "      <td>...</td>\n",
       "      <td>...</td>\n",
       "      <td>...</td>\n",
       "      <td>...</td>\n",
       "      <td>...</td>\n",
       "      <td>...</td>\n",
       "    </tr>\n",
       "    <tr>\n",
       "      <th>48615</th>\n",
       "      <td>48616</td>\n",
       "      <td>21348</td>\n",
       "      <td>ckn_alfredo_m</td>\n",
       "      <td>1</td>\n",
       "      <td>2015-12-31</td>\n",
       "      <td>1900-01-01 21:23:10</td>\n",
       "      <td>Thursday</td>\n",
       "      <td>ckn_alfredo</td>\n",
       "      <td>M</td>\n",
       "      <td>16.75</td>\n",
       "      <td>The Chicken Alfredo Pizza</td>\n",
       "      <td>Chicken</td>\n",
       "      <td>Chicken, Red Onions, Red Peppers, Mushrooms, A...</td>\n",
       "    </tr>\n",
       "    <tr>\n",
       "      <th>48616</th>\n",
       "      <td>48617</td>\n",
       "      <td>21348</td>\n",
       "      <td>four_cheese_l</td>\n",
       "      <td>1</td>\n",
       "      <td>2015-12-31</td>\n",
       "      <td>1900-01-01 21:23:10</td>\n",
       "      <td>Thursday</td>\n",
       "      <td>four_cheese</td>\n",
       "      <td>L</td>\n",
       "      <td>17.95</td>\n",
       "      <td>The Four Cheese Pizza</td>\n",
       "      <td>Veggie</td>\n",
       "      <td>Ricotta Cheese, Gorgonzola Piccante Cheese, Mo...</td>\n",
       "    </tr>\n",
       "    <tr>\n",
       "      <th>48617</th>\n",
       "      <td>48618</td>\n",
       "      <td>21348</td>\n",
       "      <td>napolitana_s</td>\n",
       "      <td>1</td>\n",
       "      <td>2015-12-31</td>\n",
       "      <td>1900-01-01 21:23:10</td>\n",
       "      <td>Thursday</td>\n",
       "      <td>napolitana</td>\n",
       "      <td>S</td>\n",
       "      <td>12.00</td>\n",
       "      <td>The Napolitana Pizza</td>\n",
       "      <td>Classic</td>\n",
       "      <td>Tomatoes, Anchovies, Green Olives, Red Onions,...</td>\n",
       "    </tr>\n",
       "    <tr>\n",
       "      <th>48618</th>\n",
       "      <td>48619</td>\n",
       "      <td>21349</td>\n",
       "      <td>mexicana_l</td>\n",
       "      <td>1</td>\n",
       "      <td>2015-12-31</td>\n",
       "      <td>1900-01-01 22:09:54</td>\n",
       "      <td>Thursday</td>\n",
       "      <td>mexicana</td>\n",
       "      <td>L</td>\n",
       "      <td>20.25</td>\n",
       "      <td>The Mexicana Pizza</td>\n",
       "      <td>Veggie</td>\n",
       "      <td>Tomatoes, Red Peppers, Jalapeno Peppers, Red O...</td>\n",
       "    </tr>\n",
       "    <tr>\n",
       "      <th>48619</th>\n",
       "      <td>48620</td>\n",
       "      <td>21350</td>\n",
       "      <td>bbq_ckn_s</td>\n",
       "      <td>1</td>\n",
       "      <td>2015-12-31</td>\n",
       "      <td>1900-01-01 23:02:05</td>\n",
       "      <td>Thursday</td>\n",
       "      <td>bbq_ckn</td>\n",
       "      <td>S</td>\n",
       "      <td>12.75</td>\n",
       "      <td>The Barbecue Chicken Pizza</td>\n",
       "      <td>Chicken</td>\n",
       "      <td>Barbecued Chicken, Red Peppers, Green Peppers,...</td>\n",
       "    </tr>\n",
       "  </tbody>\n",
       "</table>\n",
       "<p>48620 rows × 13 columns</p>\n",
       "</div>"
      ],
      "text/plain": [
       "       order_details_id  order_id       pizza_id  quantity       date  \\\n",
       "0                     1         1     hawaiian_m         1 2015-01-01   \n",
       "1                     2         2  classic_dlx_m         1 2015-01-01   \n",
       "2                     3         2  five_cheese_l         1 2015-01-01   \n",
       "3                     4         2    ital_supr_l         1 2015-01-01   \n",
       "4                     5         2     mexicana_m         1 2015-01-01   \n",
       "...                 ...       ...            ...       ...        ...   \n",
       "48615             48616     21348  ckn_alfredo_m         1 2015-12-31   \n",
       "48616             48617     21348  four_cheese_l         1 2015-12-31   \n",
       "48617             48618     21348   napolitana_s         1 2015-12-31   \n",
       "48618             48619     21349     mexicana_l         1 2015-12-31   \n",
       "48619             48620     21350      bbq_ckn_s         1 2015-12-31   \n",
       "\n",
       "                     time Order day pizza_type_id size  price  \\\n",
       "0     1900-01-01 11:38:36  Thursday      hawaiian    M  13.25   \n",
       "1     1900-01-01 11:57:40  Thursday   classic_dlx    M  16.00   \n",
       "2     1900-01-01 11:57:40  Thursday   five_cheese    L  18.50   \n",
       "3     1900-01-01 11:57:40  Thursday     ital_supr    L  20.75   \n",
       "4     1900-01-01 11:57:40  Thursday      mexicana    M  16.00   \n",
       "...                   ...       ...           ...  ...    ...   \n",
       "48615 1900-01-01 21:23:10  Thursday   ckn_alfredo    M  16.75   \n",
       "48616 1900-01-01 21:23:10  Thursday   four_cheese    L  17.95   \n",
       "48617 1900-01-01 21:23:10  Thursday    napolitana    S  12.00   \n",
       "48618 1900-01-01 22:09:54  Thursday      mexicana    L  20.25   \n",
       "48619 1900-01-01 23:02:05  Thursday       bbq_ckn    S  12.75   \n",
       "\n",
       "                             name category  \\\n",
       "0              The Hawaiian Pizza  Classic   \n",
       "1        The Classic Deluxe Pizza  Classic   \n",
       "2           The Five Cheese Pizza   Veggie   \n",
       "3       The Italian Supreme Pizza  Supreme   \n",
       "4              The Mexicana Pizza   Veggie   \n",
       "...                           ...      ...   \n",
       "48615   The Chicken Alfredo Pizza  Chicken   \n",
       "48616       The Four Cheese Pizza   Veggie   \n",
       "48617        The Napolitana Pizza  Classic   \n",
       "48618          The Mexicana Pizza   Veggie   \n",
       "48619  The Barbecue Chicken Pizza  Chicken   \n",
       "\n",
       "                                             ingredients  \n",
       "0               Sliced Ham, Pineapple, Mozzarella Cheese  \n",
       "1      Pepperoni, Mushrooms, Red Onions, Red Peppers,...  \n",
       "2      Mozzarella Cheese, Provolone Cheese, Smoked Go...  \n",
       "3      Calabrese Salami, Capocollo, Tomatoes, Red Oni...  \n",
       "4      Tomatoes, Red Peppers, Jalapeno Peppers, Red O...  \n",
       "...                                                  ...  \n",
       "48615  Chicken, Red Onions, Red Peppers, Mushrooms, A...  \n",
       "48616  Ricotta Cheese, Gorgonzola Piccante Cheese, Mo...  \n",
       "48617  Tomatoes, Anchovies, Green Olives, Red Onions,...  \n",
       "48618  Tomatoes, Red Peppers, Jalapeno Peppers, Red O...  \n",
       "48619  Barbecued Chicken, Red Peppers, Green Peppers,...  \n",
       "\n",
       "[48620 rows x 13 columns]"
      ]
     },
     "execution_count": 453,
     "metadata": {},
     "output_type": "execute_result"
    }
   ],
   "source": [
    "merged_data #merged data"
   ]
  },
  {
   "cell_type": "code",
   "execution_count": 455,
   "id": "7230b27f-0a33-4aea-8750-2c07a9b7c664",
   "metadata": {},
   "outputs": [
    {
     "name": "stdout",
     "output_type": "stream",
     "text": [
      "<class 'pandas.core.frame.DataFrame'>\n",
      "RangeIndex: 48620 entries, 0 to 48619\n",
      "Data columns (total 13 columns):\n",
      " #   Column            Non-Null Count  Dtype         \n",
      "---  ------            --------------  -----         \n",
      " 0   order_details_id  48620 non-null  int64         \n",
      " 1   order_id          48620 non-null  int64         \n",
      " 2   pizza_id          48620 non-null  object        \n",
      " 3   quantity          48620 non-null  int64         \n",
      " 4   date              48620 non-null  datetime64[ns]\n",
      " 5   time              48620 non-null  datetime64[ns]\n",
      " 6   Order day         48620 non-null  object        \n",
      " 7   pizza_type_id     48620 non-null  object        \n",
      " 8   size              48620 non-null  object        \n",
      " 9   price             48620 non-null  float64       \n",
      " 10  name              48620 non-null  object        \n",
      " 11  category          48620 non-null  object        \n",
      " 12  ingredients       48620 non-null  object        \n",
      "dtypes: datetime64[ns](2), float64(1), int64(3), object(7)\n",
      "memory usage: 4.8+ MB\n"
     ]
    }
   ],
   "source": [
    "merged_data.info() #overview of the merged data"
   ]
  },
  {
   "cell_type": "markdown",
   "id": "cf77a299-4538-4012-b726-a5edc72d4208",
   "metadata": {},
   "source": [
    "- ##### All data have been merged and ready to work with"
   ]
  },
  {
   "cell_type": "code",
   "execution_count": 459,
   "id": "ba973174-f6c8-408b-8486-86b6075bf74c",
   "metadata": {},
   "outputs": [],
   "source": [
    "merged_data[\"Total_price\"] = merged_data[\"price\"] * merged_data[\"quantity\"] #creates a total price column"
   ]
  },
  {
   "cell_type": "code",
   "execution_count": 307,
   "id": "e7fee8d9-7861-4aa9-a4d5-d6cca8219d0c",
   "metadata": {},
   "outputs": [
    {
     "data": {
      "text/html": [
       "<div>\n",
       "<style scoped>\n",
       "    .dataframe tbody tr th:only-of-type {\n",
       "        vertical-align: middle;\n",
       "    }\n",
       "\n",
       "    .dataframe tbody tr th {\n",
       "        vertical-align: top;\n",
       "    }\n",
       "\n",
       "    .dataframe thead th {\n",
       "        text-align: right;\n",
       "    }\n",
       "</style>\n",
       "<table border=\"1\" class=\"dataframe\">\n",
       "  <thead>\n",
       "    <tr style=\"text-align: right;\">\n",
       "      <th></th>\n",
       "      <th>order_details_id</th>\n",
       "      <th>order_id</th>\n",
       "      <th>pizza_id</th>\n",
       "      <th>quantity</th>\n",
       "      <th>date</th>\n",
       "      <th>time</th>\n",
       "      <th>Order month</th>\n",
       "      <th>Order day</th>\n",
       "      <th>pizza_type_id</th>\n",
       "      <th>size</th>\n",
       "      <th>price</th>\n",
       "      <th>name</th>\n",
       "      <th>category</th>\n",
       "      <th>ingredients</th>\n",
       "      <th>Total_price</th>\n",
       "    </tr>\n",
       "  </thead>\n",
       "  <tbody>\n",
       "    <tr>\n",
       "      <th>0</th>\n",
       "      <td>1</td>\n",
       "      <td>1</td>\n",
       "      <td>hawaiian_m</td>\n",
       "      <td>1</td>\n",
       "      <td>2015-01-01</td>\n",
       "      <td>1900-01-01 11:38:36</td>\n",
       "      <td>January</td>\n",
       "      <td>Thursday</td>\n",
       "      <td>hawaiian</td>\n",
       "      <td>M</td>\n",
       "      <td>13.25</td>\n",
       "      <td>The Hawaiian Pizza</td>\n",
       "      <td>Classic</td>\n",
       "      <td>Sliced Ham, Pineapple, Mozzarella Cheese</td>\n",
       "      <td>13.25</td>\n",
       "    </tr>\n",
       "    <tr>\n",
       "      <th>1</th>\n",
       "      <td>2</td>\n",
       "      <td>2</td>\n",
       "      <td>classic_dlx_m</td>\n",
       "      <td>1</td>\n",
       "      <td>2015-01-01</td>\n",
       "      <td>1900-01-01 11:57:40</td>\n",
       "      <td>January</td>\n",
       "      <td>Thursday</td>\n",
       "      <td>classic_dlx</td>\n",
       "      <td>M</td>\n",
       "      <td>16.00</td>\n",
       "      <td>The Classic Deluxe Pizza</td>\n",
       "      <td>Classic</td>\n",
       "      <td>Pepperoni, Mushrooms, Red Onions, Red Peppers,...</td>\n",
       "      <td>16.00</td>\n",
       "    </tr>\n",
       "    <tr>\n",
       "      <th>2</th>\n",
       "      <td>3</td>\n",
       "      <td>2</td>\n",
       "      <td>five_cheese_l</td>\n",
       "      <td>1</td>\n",
       "      <td>2015-01-01</td>\n",
       "      <td>1900-01-01 11:57:40</td>\n",
       "      <td>January</td>\n",
       "      <td>Thursday</td>\n",
       "      <td>five_cheese</td>\n",
       "      <td>L</td>\n",
       "      <td>18.50</td>\n",
       "      <td>The Five Cheese Pizza</td>\n",
       "      <td>Veggie</td>\n",
       "      <td>Mozzarella Cheese, Provolone Cheese, Smoked Go...</td>\n",
       "      <td>18.50</td>\n",
       "    </tr>\n",
       "    <tr>\n",
       "      <th>3</th>\n",
       "      <td>4</td>\n",
       "      <td>2</td>\n",
       "      <td>ital_supr_l</td>\n",
       "      <td>1</td>\n",
       "      <td>2015-01-01</td>\n",
       "      <td>1900-01-01 11:57:40</td>\n",
       "      <td>January</td>\n",
       "      <td>Thursday</td>\n",
       "      <td>ital_supr</td>\n",
       "      <td>L</td>\n",
       "      <td>20.75</td>\n",
       "      <td>The Italian Supreme Pizza</td>\n",
       "      <td>Supreme</td>\n",
       "      <td>Calabrese Salami, Capocollo, Tomatoes, Red Oni...</td>\n",
       "      <td>20.75</td>\n",
       "    </tr>\n",
       "    <tr>\n",
       "      <th>4</th>\n",
       "      <td>5</td>\n",
       "      <td>2</td>\n",
       "      <td>mexicana_m</td>\n",
       "      <td>1</td>\n",
       "      <td>2015-01-01</td>\n",
       "      <td>1900-01-01 11:57:40</td>\n",
       "      <td>January</td>\n",
       "      <td>Thursday</td>\n",
       "      <td>mexicana</td>\n",
       "      <td>M</td>\n",
       "      <td>16.00</td>\n",
       "      <td>The Mexicana Pizza</td>\n",
       "      <td>Veggie</td>\n",
       "      <td>Tomatoes, Red Peppers, Jalapeno Peppers, Red O...</td>\n",
       "      <td>16.00</td>\n",
       "    </tr>\n",
       "  </tbody>\n",
       "</table>\n",
       "</div>"
      ],
      "text/plain": [
       "   order_details_id  order_id       pizza_id  quantity       date  \\\n",
       "0                 1         1     hawaiian_m         1 2015-01-01   \n",
       "1                 2         2  classic_dlx_m         1 2015-01-01   \n",
       "2                 3         2  five_cheese_l         1 2015-01-01   \n",
       "3                 4         2    ital_supr_l         1 2015-01-01   \n",
       "4                 5         2     mexicana_m         1 2015-01-01   \n",
       "\n",
       "                 time Order month Order day pizza_type_id size  price  \\\n",
       "0 1900-01-01 11:38:36     January  Thursday      hawaiian    M  13.25   \n",
       "1 1900-01-01 11:57:40     January  Thursday   classic_dlx    M  16.00   \n",
       "2 1900-01-01 11:57:40     January  Thursday   five_cheese    L  18.50   \n",
       "3 1900-01-01 11:57:40     January  Thursday     ital_supr    L  20.75   \n",
       "4 1900-01-01 11:57:40     January  Thursday      mexicana    M  16.00   \n",
       "\n",
       "                        name category  \\\n",
       "0         The Hawaiian Pizza  Classic   \n",
       "1   The Classic Deluxe Pizza  Classic   \n",
       "2      The Five Cheese Pizza   Veggie   \n",
       "3  The Italian Supreme Pizza  Supreme   \n",
       "4         The Mexicana Pizza   Veggie   \n",
       "\n",
       "                                         ingredients  Total_price  \n",
       "0           Sliced Ham, Pineapple, Mozzarella Cheese        13.25  \n",
       "1  Pepperoni, Mushrooms, Red Onions, Red Peppers,...        16.00  \n",
       "2  Mozzarella Cheese, Provolone Cheese, Smoked Go...        18.50  \n",
       "3  Calabrese Salami, Capocollo, Tomatoes, Red Oni...        20.75  \n",
       "4  Tomatoes, Red Peppers, Jalapeno Peppers, Red O...        16.00  "
      ]
     },
     "execution_count": 307,
     "metadata": {},
     "output_type": "execute_result"
    }
   ],
   "source": [
    "merged_data.head()"
   ]
  },
  {
   "cell_type": "code",
   "execution_count": 327,
   "id": "6b340148-4457-4586-89dd-5d4d15fce9a5",
   "metadata": {},
   "outputs": [
    {
     "data": {
      "text/html": [
       "<div>\n",
       "<style scoped>\n",
       "    .dataframe tbody tr th:only-of-type {\n",
       "        vertical-align: middle;\n",
       "    }\n",
       "\n",
       "    .dataframe tbody tr th {\n",
       "        vertical-align: top;\n",
       "    }\n",
       "\n",
       "    .dataframe thead th {\n",
       "        text-align: right;\n",
       "    }\n",
       "</style>\n",
       "<table border=\"1\" class=\"dataframe\">\n",
       "  <thead>\n",
       "    <tr style=\"text-align: right;\">\n",
       "      <th></th>\n",
       "      <th>order_details_id</th>\n",
       "      <th>order_id</th>\n",
       "      <th>pizza_id</th>\n",
       "      <th>quantity</th>\n",
       "      <th>date</th>\n",
       "      <th>time</th>\n",
       "      <th>Order month</th>\n",
       "      <th>Order day</th>\n",
       "      <th>pizza_type_id</th>\n",
       "      <th>size</th>\n",
       "      <th>price</th>\n",
       "      <th>name</th>\n",
       "      <th>category</th>\n",
       "      <th>ingredients</th>\n",
       "      <th>Total_price</th>\n",
       "    </tr>\n",
       "  </thead>\n",
       "  <tbody>\n",
       "    <tr>\n",
       "      <th>48615</th>\n",
       "      <td>48616</td>\n",
       "      <td>21348</td>\n",
       "      <td>ckn_alfredo_m</td>\n",
       "      <td>1</td>\n",
       "      <td>2015-12-31</td>\n",
       "      <td>1900-01-01 21:23:10</td>\n",
       "      <td>December</td>\n",
       "      <td>Thursday</td>\n",
       "      <td>ckn_alfredo</td>\n",
       "      <td>M</td>\n",
       "      <td>16.75</td>\n",
       "      <td>The Chicken Alfredo Pizza</td>\n",
       "      <td>Chicken</td>\n",
       "      <td>Chicken, Red Onions, Red Peppers, Mushrooms, A...</td>\n",
       "      <td>16.75</td>\n",
       "    </tr>\n",
       "    <tr>\n",
       "      <th>48616</th>\n",
       "      <td>48617</td>\n",
       "      <td>21348</td>\n",
       "      <td>four_cheese_l</td>\n",
       "      <td>1</td>\n",
       "      <td>2015-12-31</td>\n",
       "      <td>1900-01-01 21:23:10</td>\n",
       "      <td>December</td>\n",
       "      <td>Thursday</td>\n",
       "      <td>four_cheese</td>\n",
       "      <td>L</td>\n",
       "      <td>17.95</td>\n",
       "      <td>The Four Cheese Pizza</td>\n",
       "      <td>Veggie</td>\n",
       "      <td>Ricotta Cheese, Gorgonzola Piccante Cheese, Mo...</td>\n",
       "      <td>17.95</td>\n",
       "    </tr>\n",
       "    <tr>\n",
       "      <th>48617</th>\n",
       "      <td>48618</td>\n",
       "      <td>21348</td>\n",
       "      <td>napolitana_s</td>\n",
       "      <td>1</td>\n",
       "      <td>2015-12-31</td>\n",
       "      <td>1900-01-01 21:23:10</td>\n",
       "      <td>December</td>\n",
       "      <td>Thursday</td>\n",
       "      <td>napolitana</td>\n",
       "      <td>S</td>\n",
       "      <td>12.00</td>\n",
       "      <td>The Napolitana Pizza</td>\n",
       "      <td>Classic</td>\n",
       "      <td>Tomatoes, Anchovies, Green Olives, Red Onions,...</td>\n",
       "      <td>12.00</td>\n",
       "    </tr>\n",
       "    <tr>\n",
       "      <th>48618</th>\n",
       "      <td>48619</td>\n",
       "      <td>21349</td>\n",
       "      <td>mexicana_l</td>\n",
       "      <td>1</td>\n",
       "      <td>2015-12-31</td>\n",
       "      <td>1900-01-01 22:09:54</td>\n",
       "      <td>December</td>\n",
       "      <td>Thursday</td>\n",
       "      <td>mexicana</td>\n",
       "      <td>L</td>\n",
       "      <td>20.25</td>\n",
       "      <td>The Mexicana Pizza</td>\n",
       "      <td>Veggie</td>\n",
       "      <td>Tomatoes, Red Peppers, Jalapeno Peppers, Red O...</td>\n",
       "      <td>20.25</td>\n",
       "    </tr>\n",
       "    <tr>\n",
       "      <th>48619</th>\n",
       "      <td>48620</td>\n",
       "      <td>21350</td>\n",
       "      <td>bbq_ckn_s</td>\n",
       "      <td>1</td>\n",
       "      <td>2015-12-31</td>\n",
       "      <td>1900-01-01 23:02:05</td>\n",
       "      <td>December</td>\n",
       "      <td>Thursday</td>\n",
       "      <td>bbq_ckn</td>\n",
       "      <td>S</td>\n",
       "      <td>12.75</td>\n",
       "      <td>The Barbecue Chicken Pizza</td>\n",
       "      <td>Chicken</td>\n",
       "      <td>Barbecued Chicken, Red Peppers, Green Peppers,...</td>\n",
       "      <td>12.75</td>\n",
       "    </tr>\n",
       "  </tbody>\n",
       "</table>\n",
       "</div>"
      ],
      "text/plain": [
       "       order_details_id  order_id       pizza_id  quantity       date  \\\n",
       "48615             48616     21348  ckn_alfredo_m         1 2015-12-31   \n",
       "48616             48617     21348  four_cheese_l         1 2015-12-31   \n",
       "48617             48618     21348   napolitana_s         1 2015-12-31   \n",
       "48618             48619     21349     mexicana_l         1 2015-12-31   \n",
       "48619             48620     21350      bbq_ckn_s         1 2015-12-31   \n",
       "\n",
       "                     time Order month Order day pizza_type_id size  price  \\\n",
       "48615 1900-01-01 21:23:10    December  Thursday   ckn_alfredo    M  16.75   \n",
       "48616 1900-01-01 21:23:10    December  Thursday   four_cheese    L  17.95   \n",
       "48617 1900-01-01 21:23:10    December  Thursday    napolitana    S  12.00   \n",
       "48618 1900-01-01 22:09:54    December  Thursday      mexicana    L  20.25   \n",
       "48619 1900-01-01 23:02:05    December  Thursday       bbq_ckn    S  12.75   \n",
       "\n",
       "                             name category  \\\n",
       "48615   The Chicken Alfredo Pizza  Chicken   \n",
       "48616       The Four Cheese Pizza   Veggie   \n",
       "48617        The Napolitana Pizza  Classic   \n",
       "48618          The Mexicana Pizza   Veggie   \n",
       "48619  The Barbecue Chicken Pizza  Chicken   \n",
       "\n",
       "                                             ingredients  Total_price  \n",
       "48615  Chicken, Red Onions, Red Peppers, Mushrooms, A...        16.75  \n",
       "48616  Ricotta Cheese, Gorgonzola Piccante Cheese, Mo...        17.95  \n",
       "48617  Tomatoes, Anchovies, Green Olives, Red Onions,...        12.00  \n",
       "48618  Tomatoes, Red Peppers, Jalapeno Peppers, Red O...        20.25  \n",
       "48619  Barbecued Chicken, Red Peppers, Green Peppers,...        12.75  "
      ]
     },
     "execution_count": 327,
     "metadata": {},
     "output_type": "execute_result"
    }
   ],
   "source": [
    "merged_data.tail()"
   ]
  },
  {
   "cell_type": "markdown",
   "id": "7bd5d927-2ada-457b-87f1-230187d542f3",
   "metadata": {},
   "source": [
    "#### 🎯 Answers To The Task Question."
   ]
  },
  {
   "cell_type": "markdown",
   "id": "915b685c-d2ca-4586-9971-814da6e91064",
   "metadata": {},
   "source": [
    "#### 🔹 Total Revenue"
   ]
  },
  {
   "cell_type": "code",
   "execution_count": 465,
   "id": "4e6035cc-0a2f-4327-8562-1f6cec5b5d8b",
   "metadata": {},
   "outputs": [
    {
     "name": "stdout",
     "output_type": "stream",
     "text": [
      "The total revenue is : $817860.05\n"
     ]
    }
   ],
   "source": [
    "total_revenue = merged_data[\"Total_price\"].sum() #calculates the total revenue\n",
    "print(f'The total revenue is : ${total_revenue}')"
   ]
  },
  {
   "cell_type": "markdown",
   "id": "84a029dd-9308-44e0-8578-7025cab3b9df",
   "metadata": {},
   "source": [
    "#### 🔹 Total Quantity Sold"
   ]
  },
  {
   "cell_type": "code",
   "execution_count": 477,
   "id": "1e17367c-ade0-4d15-ae26-1ecb16955dc7",
   "metadata": {},
   "outputs": [
    {
     "name": "stdout",
     "output_type": "stream",
     "text": [
      "The total quantity sold is :49574 unit\n"
     ]
    }
   ],
   "source": [
    "total_quantity_sold = merged_data[\"quantity\"].sum() #calculates total quantity sold\n",
    "print(f'The total quantity sold is :{total_quantity_sold} unit')"
   ]
  },
  {
   "cell_type": "markdown",
   "id": "2de78bbb-0000-4285-8ed2-e46ead1c6276",
   "metadata": {},
   "source": [
    "#### 🔹 Total Orders"
   ]
  },
  {
   "cell_type": "code",
   "execution_count": 335,
   "id": "195fcbe0-a1fb-4eed-8219-85bf50f62f07",
   "metadata": {},
   "outputs": [
    {
     "name": "stdout",
     "output_type": "stream",
     "text": [
      "The total orders are : 21350 unit\n"
     ]
    }
   ],
   "source": [
    "total_orders = orders['order_id'].nunique() #numbers of total orders\n",
    "print(f'The total orders are : {total_orders} unit')"
   ]
  },
  {
   "cell_type": "markdown",
   "id": "2e09ce45-0287-45f4-a4ba-cc6ec22a669b",
   "metadata": {},
   "source": [
    "#### 🔹 Number of Pizza Types"
   ]
  },
  {
   "cell_type": "code",
   "execution_count": 337,
   "id": "c67ad466-b12c-453a-8ef4-fb9f1b166ce8",
   "metadata": {},
   "outputs": [
    {
     "name": "stdout",
     "output_type": "stream",
     "text": [
      "The nunmber of pizza types are :32\n"
     ]
    }
   ],
   "source": [
    "pizza_type_count = pizza_types['pizza_type_id'].nunique() # number of pizza types \n",
    "print(f'The nunmber of pizza types are :{pizza_type_count}')"
   ]
  },
  {
   "cell_type": "markdown",
   "id": "81729ba0-9977-411c-a19c-65c7b50fb3d2",
   "metadata": {},
   "source": [
    "#### 🔹 Average Pizza Price"
   ]
  },
  {
   "cell_type": "code",
   "execution_count": 343,
   "id": "f4f09a38-6683-4bdb-9213-48314a325cb2",
   "metadata": {},
   "outputs": [
    {
     "name": "stdout",
     "output_type": "stream",
     "text": [
      "The avaerage pizza price is : 16.44\n"
     ]
    }
   ],
   "source": [
    "avg_price = pizzas['price'].mean() # average pizza price\n",
    "print(f'The avaerage pizza price is : {avg_price:.2f}')"
   ]
  },
  {
   "cell_type": "markdown",
   "id": "6b11738d-b6ab-447b-882c-468a66de242a",
   "metadata": {},
   "source": [
    "#### 🔹 Peak Hours of Sales"
   ]
  },
  {
   "cell_type": "code",
   "execution_count": 353,
   "id": "bc7fd7bf-7a42-4fb8-97e4-71c6af0688ce",
   "metadata": {},
   "outputs": [
    {
     "name": "stdout",
     "output_type": "stream",
     "text": [
      "The peak hours of sell is : hour\n",
      "12    111877.90\n",
      "13    106065.70\n",
      "18     89296.85\n",
      "17     86237.45\n",
      "19     72628.90\n",
      "16     70055.40\n",
      "14     59201.40\n",
      "20     58215.40\n",
      "15     52992.30\n",
      "11     44935.80\n",
      "21     42029.80\n",
      "22     22815.15\n",
      "23      1121.35\n",
      "10       303.65\n",
      "9         83.00\n",
      "Name: Total_price, dtype: float64\n"
     ]
    }
   ],
   "source": [
    "merged_data['hour'] = pd.to_datetime(merged_data['time'], format='%H:%M:%S').dt.hour\n",
    "peak_hours = merged_data.groupby('hour')['Total_price'].sum().sort_values(ascending=False) # ouput the total price per hours\n",
    "print(f'The peak hours of sell is : {peak_hours}')"
   ]
  },
  {
   "cell_type": "code",
   "execution_count": 367,
   "id": "337d2dc9-b441-4b35-aa17-7408a1da23d4",
   "metadata": {},
   "outputs": [
    {
     "data": {
      "image/png": "[encoded data removed]",
      "text/plain": [
       "<Figure size 640x480 with 1 Axes>"
      ]
     },
     "metadata": {},
     "output_type": "display_data"
    }
   ],
   "source": [
    "peak_hours.plot(kind='bar', title='Peak Hours of Sales')\n",
    "plt.ylabel('Sales')\n",
    "plt.show()"
   ]
  },
  {
   "cell_type": "markdown",
   "id": "2985f3ee-e538-4905-849a-eccf86116a43",
   "metadata": {},
   "source": [
    " #### 📊Insight\n",
    "- From the bar chart we realise the hour with the most sales is 12 Noon , that is in the afternoon.\n",
    "- This period has the highest peak hours because many people and companies will be ordering for lunch.\n",
    "- It is adviseable to produce more pizzas before the peak time to meet the volume order of the day.\n",
    "- The time with the least order volumes are 23:00 PM, 10:00 AM and 9:00 AM , this is likely due to sleeping hours and perhaps early working time."
   ]
  },
  {
   "cell_type": "markdown",
   "id": "9b727c1b-6ffb-441c-96fb-b7c3ea41475f",
   "metadata": {},
   "source": [
    "#### 🔹 Sales by Day of the Week"
   ]
  },
  {
   "cell_type": "code",
   "execution_count": 359,
   "id": "c9c144b4-7ac8-48f7-a402-1cdb9abaee69",
   "metadata": {},
   "outputs": [
    {
     "name": "stdout",
     "output_type": "stream",
     "text": [
      "The sales by days of the is :weekday\n",
      "Friday       136073.90\n",
      "Thursday     123528.50\n",
      "Saturday     123182.40\n",
      "Wednesday    114408.40\n",
      "Tuesday      114133.80\n",
      "Monday       107329.55\n",
      "Sunday        99203.50\n",
      "Name: Total_price, dtype: float64\n"
     ]
    }
   ],
   "source": [
    "merged_data['weekday'] = merged_data['date'].dt.day_name()\n",
    "sales_per_day = merged_data.groupby('weekday')['Total_price'].sum().sort_values(ascending=False) # tatal sales per day\n",
    "print(f'The sales per days of the is :{sales_per_day}')"
   ]
  },
  {
   "cell_type": "code",
   "execution_count": 379,
   "id": "4ab2f3d5-7288-4a2a-bd8d-ba18c3504eaf",
   "metadata": {},
   "outputs": [
    {
     "data": {
      "image/png": "[encoded data removed]",
      "text/plain": [
       "<Figure size 640x480 with 1 Axes>"
      ]
     },
     "metadata": {},
     "output_type": "display_data"
    }
   ],
   "source": [
    "sales_per_day.plot(kind='line', title='Sales Per Day of the Week')\n",
    "plt.ylabel('Sales')\n",
    "plt.show()"
   ]
  },
  {
   "cell_type": "markdown",
   "id": "d2150d62-7831-4d49-988b-89c45d6f587c",
   "metadata": {},
   "source": [
    " #### 📊Insight\n",
    "- Friday has the highest sales per week.\n",
    "- Sundays has the lowest sales per week."
   ]
  },
  {
   "cell_type": "markdown",
   "id": "3040ce00-d4ec-44d4-9523-11149a232624",
   "metadata": {},
   "source": [
    "#### 🔹 Top 5 Bestselling Pizzas"
   ]
  },
  {
   "cell_type": "code",
   "execution_count": 361,
   "id": "6fcfe592-8c3a-4b93-b497-962f3c333983",
   "metadata": {},
   "outputs": [
    {
     "name": "stdout",
     "output_type": "stream",
     "text": [
      "The top 5 best selling pizzas are :pizza_id\n",
      "big_meat_s       1914\n",
      "thai_ckn_l       1410\n",
      "five_cheese_l    1409\n",
      "four_cheese_l    1316\n",
      "classic_dlx_m    1181\n",
      "Name: quantity, dtype: int64\n"
     ]
    }
   ],
   "source": [
    "top_5_pizzas = merged_data.groupby('pizza_id')['quantity'].sum().sort_values(ascending=False).head(5) # top selling pizzas\n",
    "print(f'The top 5 best selling pizzas are :{top_5_pizzas}')"
   ]
  },
  {
   "cell_type": "code",
   "execution_count": 381,
   "id": "15f47718-98fa-4420-b86a-a7b304033b7b",
   "metadata": {},
   "outputs": [
    {
     "data": {
      "image/png": "[encoded data removed]",
      "text/plain": [
       "<Figure size 800x800 with 1 Axes>"
      ]
     },
     "metadata": {},
     "output_type": "display_data"
    }
   ],
   "source": [
    "labels = ['big_meat_s', 'thai_ckn_l', 'five_cheese_l' ,'four_cheese_l' ,'classic_dlx_m']\n",
    "sizes =[1914, 1410, 1409, 1316, 1181]\n",
    "# Create a pie chart with percentages\n",
    "plt.figure(figsize=(8, 8))\n",
    "plt.pie(sizes, labels=labels, autopct='%1.1f%%', startangle=140)\n",
    "plt.title('Top 5 Best Selling Pizzas')\n",
    "plt.axis('equal')  # Equal aspect ratio ensures that pie is drawn as a circle.\n",
    "plt.show()"
   ]
  },
  {
   "cell_type": "markdown",
   "id": "73f9ebe4-20e7-4392-b188-bdea07f64aa0",
   "metadata": {},
   "source": [
    "#### 📊Insight\n",
    "- The top 5 best selling pizzas are illustrated on the pie chart with their domiminance percentage.\n",
    "- Big_meat_s and thai_cnk_I being the best selling pizzas.\n",
    "- More of these pizzas should be made to increase the total revenue and make more profits\n"
   ]
  },
  {
   "cell_type": "markdown",
   "id": "6eb48e6d-dd07-467f-99c4-93e0fb99c2a5",
   "metadata": {},
   "source": [
    "#### 🔹 Sales by Month (Trend)"
   ]
  },
  {
   "cell_type": "code",
   "execution_count": 363,
   "id": "6538b568-8cfc-4fed-8343-b0ab33f0e5c7",
   "metadata": {},
   "outputs": [
    {
     "name": "stdout",
     "output_type": "stream",
     "text": [
      "The sales by month is :month\n",
      "October      64027.60\n",
      "September    64180.05\n",
      "December     64701.15\n",
      "February     65159.60\n",
      "June         68230.20\n",
      "August       68278.25\n",
      "April        68736.80\n",
      "January      69793.30\n",
      "November     70395.35\n",
      "March        70397.10\n",
      "May          71402.75\n",
      "July         72557.90\n",
      "Name: Total_price, dtype: float64\n"
     ]
    }
   ],
   "source": [
    "merged_data['month'] = merged_data['date'].dt.month_name()\n",
    "monthly_sales = merged_data.groupby('month')['Total_price'].sum().sort_values() # total sales per months\n",
    "print(f'The sales by month is :{monthly_sales}')"
   ]
  },
  {
   "cell_type": "code",
   "execution_count": 385,
   "id": "95eac3d8-147d-4fc0-837e-0088cf840c43",
   "metadata": {},
   "outputs": [
    {
     "data": {
      "image/png": "[encoded data removed]",
      "text/plain": [
       "<Figure size 640x480 with 1 Axes>"
      ]
     },
     "metadata": {},
     "output_type": "display_data"
    }
   ],
   "source": [
    "monthly_sales.plot(kind='line', title='Monthly Sales Trend')\n",
    "plt.ylabel('Sales')\n",
    "plt.show()"
   ]
  },
  {
   "cell_type": "markdown",
   "id": "70f2ce85-7d97-4116-8ee4-074d18da29a0",
   "metadata": {},
   "source": [
    " #### 📊Insight\n",
    " - July and May have the highest monthly sales return.\n",
    " - The monthly return trends indicates that profits are being made subsequently.\n",
    " - Focus more on producing the best selling pizzas to increase monthly sales ."
   ]
  },
  {
   "cell_type": "markdown",
   "id": "69bcdb97-d4f2-45f0-a3e5-1c86a4ea66a4",
   "metadata": {},
   "source": [
    "#### 🔹 Underperforming Pizza Types"
   ]
  },
  {
   "cell_type": "code",
   "execution_count": 391,
   "id": "3f15eb5d-26b7-4b3d-99a3-61edd6352180",
   "metadata": {},
   "outputs": [
    {
     "name": "stdout",
     "output_type": "stream",
     "text": [
      "Underperforming Pizza Types:\n",
      " pizza_type_id\n",
      "brie_carre      490\n",
      "mediterraneo    934\n",
      "calabrese       937\n",
      "spinach_supr    950\n",
      "soppressata     961\n",
      "Name: quantity, dtype: int64\n"
     ]
    }
   ],
   "source": [
    "least_selling_pizza = merged_data.groupby('pizza_type_id')['quantity'].sum().sort_values().head(5) # least selling pizzas types\n",
    "print(\"Underperforming Pizza Types:\\n\", least_selling_pizza)"
   ]
  },
  {
   "cell_type": "markdown",
   "id": "e4de19c4-ce11-4a70-9ed1-18d0d61e5881",
   "metadata": {},
   "source": [
    "#### 📊Insight\n",
    "- The amount of least selling pizzas should be reduced in production.\n",
    "- To boost the awareness of least selling pizzas, advertisement should be put into place."
   ]
  },
  {
   "cell_type": "markdown",
   "id": "487d6c67-ace0-409a-8773-9550ca741086",
   "metadata": {},
   "source": [
    "## 📊 Additional Visualization Insight."
   ]
  },
  {
   "cell_type": "markdown",
   "id": "df45c858-db64-49e0-aae4-2dbd4382fc37",
   "metadata": {},
   "source": [
    "### 🔍  Most Popular Pizza Size"
   ]
  },
  {
   "cell_type": "code",
   "execution_count": 393,
   "id": "16362354-30c1-4a59-a909-6fae28f93190",
   "metadata": {},
   "outputs": [
    {
     "data": {
      "text/plain": [
       "<Axes: title={'center': 'Most Popular Pizza Sizes'}, xlabel='size'>"
      ]
     },
     "execution_count": 393,
     "metadata": {},
     "output_type": "execute_result"
    },
    {
     "data": {
      "image/png": "[encoded data removed]",
      "text/plain": [
       "<Figure size 640x480 with 1 Axes>"
      ]
     },
     "metadata": {},
     "output_type": "display_data"
    }
   ],
   "source": [
    "merged_data['size'].value_counts().plot(kind='bar', title='Most Popular Pizza Sizes')"
   ]
  },
  {
   "cell_type": "markdown",
   "id": "9c850f56-4690-4722-adbd-1995c861e978",
   "metadata": {},
   "source": [
    "#### 📊Insight\n",
    "- More large pizzas should be produced.\n",
    "- increase in production of large and medium size pizzas can likely lead to increase in revenue and sales return."
   ]
  },
  {
   "cell_type": "markdown",
   "id": "f8e64d57-4204-4000-aefd-a7170c9740d8",
   "metadata": {},
   "source": [
    "### 🔍  Revenue by Pizza Category"
   ]
  },
  {
   "cell_type": "code",
   "execution_count": 400,
   "id": "c00b5029-ce18-46e5-b4d2-b1fa6e5d407f",
   "metadata": {},
   "outputs": [
    {
     "data": {
      "text/plain": [
       "<Axes: title={'center': 'Revenue by Pizza Category'}, xlabel='category'>"
      ]
     },
     "execution_count": 400,
     "metadata": {},
     "output_type": "execute_result"
    },
    {
     "data": {
      "image/png": "[encoded data removed]",
      "text/plain": [
       "<Figure size 640x480 with 1 Axes>"
      ]
     },
     "metadata": {},
     "output_type": "display_data"
    }
   ],
   "source": [
    "merged_data.groupby('category')['Total_price'].sum().sort_values(ascending=False).plot(kind='bar', title='Revenue by Pizza Category')"
   ]
  },
  {
   "cell_type": "markdown",
   "id": "3d50790d-7702-4efd-ac99-0aaf9f2ce71e",
   "metadata": {},
   "source": [
    "#### 📊Insight\n",
    "- All pizza category genenrates good revenues , the categorical production should be maintained.\n",
    "- Adding new category may likely lead to low sale in such category."
   ]
  },
  {
   "cell_type": "markdown",
   "id": "782a9c92-2e7d-41b8-97d3-cbdcbdf3d56f",
   "metadata": {},
   "source": [
    "### 🔍 Heatmap of Sales by Day and Hour"
   ]
  },
  {
   "cell_type": "code",
   "execution_count": 405,
   "id": "37e7a920-c324-4da8-b4f9-530ae67a7421",
   "metadata": {},
   "outputs": [
    {
     "data": {
      "text/plain": [
       "Text(0.5, 1.0, 'Heatmap: Sales by Day and Hour')"
      ]
     },
     "execution_count": 405,
     "metadata": {},
     "output_type": "execute_result"
    },
    {
     "data": {
      "image/png": "[encoded data removed]",
      "text/plain": [
       "<Figure size 640x480 with 2 Axes>"
      ]
     },
     "metadata": {},
     "output_type": "display_data"
    }
   ],
   "source": [
    "heatmap_data = merged_data.groupby([merged_data['date'].dt.day_name(), merged_data['hour']])['Total_price'].sum().unstack()\n",
    "sns.heatmap(heatmap_data, cmap='YlOrRd')\n",
    "plt.title(\"Heatmap: Sales by Day and Hour\")"
   ]
  },
  {
   "cell_type": "markdown",
   "id": "cfb50a03-3618-41bd-9084-73383f18a754",
   "metadata": {},
   "source": [
    "#### 📊Insight\n",
    "- Most active order periods are 12-13 PM, 17-18 PM,\n",
    "- Most active days are Friday and Saturdays with over 10000-17500 orders. "
   ]
  },
  {
   "cell_type": "markdown",
   "id": "0813dc2f-0d32-4833-a1e2-ba2e372ce85e",
   "metadata": {},
   "source": [
    "### 🔍 Pizza Type vs Total Revenue"
   ]
  },
  {
   "cell_type": "code",
   "execution_count": 410,
   "id": "26a69f63-aeab-4bbd-87c5-768288b12e52",
   "metadata": {},
   "outputs": [
    {
     "data": {
      "text/plain": [
       "<Axes: title={'center': 'Top Pizza Types by Revenue'}, ylabel='pizza_type_id'>"
      ]
     },
     "execution_count": 410,
     "metadata": {},
     "output_type": "execute_result"
    },
    {
     "data": {
      "image/png": "[encoded data removed]",
      "text/plain": [
       "<Figure size 640x480 with 1 Axes>"
      ]
     },
     "metadata": {},
     "output_type": "display_data"
    }
   ],
   "source": [
    "merged_data.groupby('pizza_type_id')['Total_price'].sum().sort_values(ascending=False).head(10).plot(kind='barh', title='Top Pizza Types by Revenue')"
   ]
  },
  {
   "cell_type": "markdown",
   "id": "75892432-2dad-4dc6-a804-5dbdc0112afc",
   "metadata": {},
   "source": [
    "#### 📊Insight\n",
    "- thai_ckn , bbq_cnk and cali_cnk generates more revenue of over $40000\n",
    "- The production of the above types should be taken into consideration."
   ]
  },
  {
   "cell_type": "markdown",
   "id": "2498241d-4c18-4951-9915-6b3aec7d31eb",
   "metadata": {},
   "source": [
    "## 📊 Overall Insight"
   ]
  },
  {
   "cell_type": "markdown",
   "id": "95a0690a-3a5e-48cd-9000-eb2f542f4d44",
   "metadata": {},
   "source": [
    "- More production of Pizzas that genenrate High revenue return.\n",
    "- Production for active hours and days should be considered to increase more in revenue.\n",
    "- Maintain present pizzas category.\n",
    "- Large and medium size pizzas should be produced more .\n",
    "- Folowing all insights logicallly will lead to increase in profit.\n"
   ]
  },
  {
   "cell_type": "markdown",
   "id": "2c5349a2-c38f-4572-9960-53e6acb379c9",
   "metadata": {},
   "source": [
    "## 🎯🎯 Task Completed !!.\n",
    "- Data Cleaned.✔️ \n",
    "- Ananlysis Well Approached.✔️ \n",
    "- Visualization clearly displaywd.✔️ "
   ]
  }
 ],
 "metadata": {
  "kernelspec": {
   "display_name": "Python [conda env:base] *",
   "language": "python",
   "name": "conda-base-py"
  },
  "language_info": {
   "codemirror_mode": {
    "name": "ipython",
    "version": 3
   },
   "file_extension": ".py",
   "mimetype": "text/x-python",
   "name": "python",
   "nbconvert_exporter": "python",
   "pygments_lexer": "ipython3",
   "version": "3.12.7"
  }
 },
 "nbformat": 4,
 "nbformat_minor": 5
}
